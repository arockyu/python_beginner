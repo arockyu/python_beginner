{
 "cells": [
  {
   "cell_type": "markdown",
   "metadata": {},
   "source": [
    "## [カズくん問題](https://twitter.com/Kzs_xx_/status/1308253374949646337)の検証コード"
   ]
  },
  {
   "cell_type": "code",
   "execution_count": 1,
   "metadata": {},
   "outputs": [],
   "source": [
    "N = 100"
   ]
  },
  {
   "cell_type": "markdown",
   "metadata": {},
   "source": [
    "### カズくんの戦略(アルゴリズム)\n",
    "\n",
    "ひとつ前の値 bf  \n",
    "二つ前の値 bfbf  \n",
    "返り値は最新の値"
   ]
  },
  {
   "cell_type": "code",
   "execution_count": 2,
   "metadata": {},
   "outputs": [],
   "source": [
    "#Algolithm function\n",
    "def algo(bf,bfbf):\n",
    "\n",
    "    if(bf > bfbf):\n",
    "        diff = bf - bfbf\n",
    "    else:\n",
    "        diff = bf + N - bfbf\n",
    "        \n",
    "    delta = (diff - 1)  % (N-1) +1\n",
    "    \n",
    "    ret = (bf + delta - 1) % N + 1\n",
    "\n",
    "    return ret\n"
   ]
  },
  {
   "cell_type": "markdown",
   "metadata": {},
   "source": [
    "### カズくんの挑戦\n",
    "\n",
    "最初の二つの組のペア a,b  \n",
    "返り値はカズくんのいう数字のリスト\n"
   ]
  },
  {
   "cell_type": "code",
   "execution_count": 3,
   "metadata": {},
   "outputs": [],
   "source": [
    "#kau kun function\n",
    "def kazukun_challenge(a,b,print_data = False):\n",
    "    if(a==b or a>N or a < 1 or b>N or b < 1):\n",
    "        print (\"err func a=b\")\n",
    "        return 0\n",
    "    \n",
    "    before_of_before =min(a,b)\n",
    "    before = max(a,b)\n",
    "    if(print_data):\n",
    "        print(\"1 :\",before_of_before)\n",
    "        print(\"2 :\",before,)\n",
    "        \n",
    "    list=[before_of_before,before]\n",
    "\n",
    "    for i in range(3,N + 1):\n",
    "\n",
    "        #Algolithm    \n",
    "        current = algo(before,before_of_before)\n",
    "\n",
    "        #Output\n",
    "        if(print_data):\n",
    "            print(i,\":\",current,\"(\",before,\",\",before_of_before,\")\")\n",
    "        list+=[current]\n",
    "\n",
    "        #Refresh\n",
    "        before_of_before = before\n",
    "        before = current\n",
    "        \n",
    "\n",
    "    return list;\n"
   ]
  },
  {
   "cell_type": "markdown",
   "metadata": {},
   "source": [
    "### でんごーさんAlgolithm   "
   ]
  },
  {
   "cell_type": "code",
   "execution_count": 4,
   "metadata": {},
   "outputs": [],
   "source": [
    "#でんごーさんAlgolithm   \n",
    "def kazukun_challenge2(a,b,print_data = False):\n",
    "    if(a==b or a>N or a < 1 or b>N or b < 1):\n",
    "        print (\"err func a=b\")\n",
    "        return 0\n",
    "    \n",
    "    kazu=[min(a,b),max(a,b)]\n",
    "    \n",
    "    if(print_data):\n",
    "        print(\"1 :\",kazu[0])\n",
    "        print(\"2 :\",kazu[1],)\n",
    "        \n",
    "    list=[kazu[0],kazu[1]]\n",
    "\n",
    "    for i in range(3,N + 1):\n",
    "        \n",
    "        #next計算\n",
    "        delta = kazu[1] - kazu[0]\n",
    "        next = kazu[1] + delta\n",
    "        \n",
    "        #100を超えたら記憶初期化\n",
    "        if (next > 100):\n",
    "            next += 1\n",
    "            next %= delta\n",
    "            if(next == 0):\n",
    "                next = delta;\n",
    "            \n",
    "            kazu[1] = next -delta\n",
    "            kazu[0] = kazu[1] -delta\n",
    "            \n",
    "        #Output\n",
    "        if(print_data):\n",
    "            print(i,\":\",next,\"(\",kazu[1],\",\",kazu[0],\")\")\n",
    "        list+=[next]\n",
    "\n",
    "        #Refresh\n",
    "        kazu[0] = kazu[1]\n",
    "        kazu[1] = next\n",
    "        \n",
    "\n",
    "    return list;"
   ]
  },
  {
   "cell_type": "markdown",
   "metadata": {},
   "source": [
    "### 特定の初期値ペアに対する検証"
   ]
  },
  {
   "cell_type": "code",
   "execution_count": 5,
   "metadata": {
    "scrolled": false
   },
   "outputs": [
    {
     "name": "stdout",
     "output_type": "stream",
     "text": [
      "1 : 1\n",
      "2 : 3\n",
      "3 : 5 ( 3 , 1 )\n",
      "4 : 7 ( 5 , 3 )\n",
      "5 : 9 ( 7 , 5 )\n",
      "6 : 11 ( 9 , 7 )\n",
      "7 : 13 ( 11 , 9 )\n",
      "8 : 15 ( 13 , 11 )\n",
      "9 : 17 ( 15 , 13 )\n",
      "10 : 19 ( 17 , 15 )\n",
      "11 : 21 ( 19 , 17 )\n",
      "12 : 23 ( 21 , 19 )\n",
      "13 : 25 ( 23 , 21 )\n",
      "14 : 27 ( 25 , 23 )\n",
      "15 : 29 ( 27 , 25 )\n",
      "16 : 31 ( 29 , 27 )\n",
      "17 : 33 ( 31 , 29 )\n",
      "18 : 35 ( 33 , 31 )\n",
      "19 : 37 ( 35 , 33 )\n",
      "20 : 39 ( 37 , 35 )\n",
      "21 : 41 ( 39 , 37 )\n",
      "22 : 43 ( 41 , 39 )\n",
      "23 : 45 ( 43 , 41 )\n",
      "24 : 47 ( 45 , 43 )\n",
      "25 : 49 ( 47 , 45 )\n",
      "26 : 51 ( 49 , 47 )\n",
      "27 : 53 ( 51 , 49 )\n",
      "28 : 55 ( 53 , 51 )\n",
      "29 : 57 ( 55 , 53 )\n",
      "30 : 59 ( 57 , 55 )\n",
      "31 : 61 ( 59 , 57 )\n",
      "32 : 63 ( 61 , 59 )\n",
      "33 : 65 ( 63 , 61 )\n",
      "34 : 67 ( 65 , 63 )\n",
      "35 : 69 ( 67 , 65 )\n",
      "36 : 71 ( 69 , 67 )\n",
      "37 : 73 ( 71 , 69 )\n",
      "38 : 75 ( 73 , 71 )\n",
      "39 : 77 ( 75 , 73 )\n",
      "40 : 79 ( 77 , 75 )\n",
      "41 : 81 ( 79 , 77 )\n",
      "42 : 83 ( 81 , 79 )\n",
      "43 : 85 ( 83 , 81 )\n",
      "44 : 87 ( 85 , 83 )\n",
      "45 : 89 ( 87 , 85 )\n",
      "46 : 91 ( 89 , 87 )\n",
      "47 : 93 ( 91 , 89 )\n",
      "48 : 95 ( 93 , 91 )\n",
      "49 : 97 ( 95 , 93 )\n",
      "50 : 99 ( 97 , 95 )\n",
      "51 : 2 ( 0 , -2 )\n",
      "52 : 4 ( 2 , 0 )\n",
      "53 : 6 ( 4 , 2 )\n",
      "54 : 8 ( 6 , 4 )\n",
      "55 : 10 ( 8 , 6 )\n",
      "56 : 12 ( 10 , 8 )\n",
      "57 : 14 ( 12 , 10 )\n",
      "58 : 16 ( 14 , 12 )\n",
      "59 : 18 ( 16 , 14 )\n",
      "60 : 20 ( 18 , 16 )\n",
      "61 : 22 ( 20 , 18 )\n",
      "62 : 24 ( 22 , 20 )\n",
      "63 : 26 ( 24 , 22 )\n",
      "64 : 28 ( 26 , 24 )\n",
      "65 : 30 ( 28 , 26 )\n",
      "66 : 32 ( 30 , 28 )\n",
      "67 : 34 ( 32 , 30 )\n",
      "68 : 36 ( 34 , 32 )\n",
      "69 : 38 ( 36 , 34 )\n",
      "70 : 40 ( 38 , 36 )\n",
      "71 : 42 ( 40 , 38 )\n",
      "72 : 44 ( 42 , 40 )\n",
      "73 : 46 ( 44 , 42 )\n",
      "74 : 48 ( 46 , 44 )\n",
      "75 : 50 ( 48 , 46 )\n",
      "76 : 52 ( 50 , 48 )\n",
      "77 : 54 ( 52 , 50 )\n",
      "78 : 56 ( 54 , 52 )\n",
      "79 : 58 ( 56 , 54 )\n",
      "80 : 60 ( 58 , 56 )\n",
      "81 : 62 ( 60 , 58 )\n",
      "82 : 64 ( 62 , 60 )\n",
      "83 : 66 ( 64 , 62 )\n",
      "84 : 68 ( 66 , 64 )\n",
      "85 : 70 ( 68 , 66 )\n",
      "86 : 72 ( 70 , 68 )\n",
      "87 : 74 ( 72 , 70 )\n",
      "88 : 76 ( 74 , 72 )\n",
      "89 : 78 ( 76 , 74 )\n",
      "90 : 80 ( 78 , 76 )\n",
      "91 : 82 ( 80 , 78 )\n",
      "92 : 84 ( 82 , 80 )\n",
      "93 : 86 ( 84 , 82 )\n",
      "94 : 88 ( 86 , 84 )\n",
      "95 : 90 ( 88 , 86 )\n",
      "96 : 92 ( 90 , 88 )\n",
      "97 : 94 ( 92 , 90 )\n",
      "98 : 96 ( 94 , 92 )\n",
      "99 : 98 ( 96 , 94 )\n",
      "100 : 100 ( 98 , 96 )\n"
     ]
    }
   ],
   "source": [
    "#check single case\n",
    "\n",
    "check = kazukun_challenge2(1,3,True) #でんごーさんAlgolithm  \n",
    "\n",
    "for l in range(1,N + 1):\n",
    "     if ((l in check) == False):\n",
    "            print (\"missing \",l)"
   ]
  },
  {
   "cell_type": "markdown",
   "metadata": {},
   "source": [
    "### 全初期値ペアの総当たり検証"
   ]
  },
  {
   "cell_type": "code",
   "execution_count": 6,
   "metadata": {
    "scrolled": false
   },
   "outputs": [
    {
     "name": "stdout",
     "output_type": "stream",
     "text": [
      "good\n"
     ]
    }
   ],
   "source": [
    "#check all cases\n",
    "\n",
    "flag_all = False\n",
    "for j in range(1,N): \n",
    "    #print(j)\n",
    "    for k in range(j+1,N + 1):\n",
    "        out = kazukun_challenge2(j,k) #でんごーさんAlgolithm  \n",
    "        flag_single=flag=False\n",
    "        for l in range(1,N + 1):\n",
    "            if ((l in out) == False):\n",
    "                flag_single=True\n",
    "                #print (\"case\",j,k,\"missing \",l)\n",
    "        if (flag_single):\n",
    "            flag_all = True\n",
    "            print(\"bad case:\",j,k)\n",
    "        #else:\n",
    "        #    print(\"good case\",j,k)    \n",
    "if (flag_all) :\n",
    "    print (\"bad\")\n",
    "else:\n",
    "    print (\"good\")\n"
   ]
  },
  {
   "cell_type": "markdown",
   "metadata": {},
   "source": [
    "##### 定式化\n",
    "\n",
    "N = 100\n",
    "\n",
    "A={1,2,3....,N-3,N-2,N-1}  \n",
    "\n",
    "f:A -> A がいか条件の時できるのではないか？？？\n",
    "\n",
    "* fは全射\n",
    "* 任意の a ∈ A　で　f(a)!=a,$f^{(99)}(a)=a$\n",
    "* 任意の n,d ∈ A で$g(n)=\\Sigma_{m=1}^{n}{f^n(d)\\,mod\\,N}$がAへの全射(単車)\n",
    "\n",
    "\n",
    "新しい数字 = (ひとつ前の数字　＋　f(記憶した二つの数字の増分)  - 1) mod 100 + 1\n",
    "\n",
    "もう少し条件を緩和しできるような気がする、、、"
   ]
  },
  {
   "cell_type": "markdown",
   "metadata": {},
   "source": [
    "### N=10にしてみる"
   ]
  },
  {
   "cell_type": "code",
   "execution_count": 7,
   "metadata": {},
   "outputs": [],
   "source": [
    "N=10"
   ]
  },
  {
   "cell_type": "code",
   "execution_count": null,
   "metadata": {},
   "outputs": [],
   "source": [
    "\n",
    "\n",
    "\n",
    "\n",
    "# def serch_func(depth,l,f,g):\n",
    "    \n",
    "#     for i in l :\n",
    "#         dic_f[]=\n",
    "#         dic_g[]\n",
    "#         if()  \n",
    "    \n",
    "#     return;\n",
    "\n",
    "# list = range(1,N)\n",
    "# dic_f={}\n",
    "# dic_g={}"
   ]
  },
  {
   "cell_type": "code",
   "execution_count": null,
   "metadata": {},
   "outputs": [],
   "source": [
    "dic={}"
   ]
  },
  {
   "cell_type": "code",
   "execution_count": null,
   "metadata": {},
   "outputs": [],
   "source": [
    "dic[1]=2"
   ]
  },
  {
   "cell_type": "code",
   "execution_count": null,
   "metadata": {},
   "outputs": [],
   "source": [
    "dic"
   ]
  },
  {
   "cell_type": "code",
   "execution_count": null,
   "metadata": {},
   "outputs": [],
   "source": [
    "dic"
   ]
  },
  {
   "cell_type": "code",
   "execution_count": null,
   "metadata": {},
   "outputs": [],
   "source": [
    "dic"
   ]
  },
  {
   "cell_type": "code",
   "execution_count": null,
   "metadata": {
    "scrolled": false
   },
   "outputs": [],
   "source": [
    "dir(dic)"
   ]
  },
  {
   "cell_type": "code",
   "execution_count": null,
   "metadata": {},
   "outputs": [],
   "source": []
  }
 ],
 "metadata": {
  "kernelspec": {
   "display_name": "Python 3",
   "language": "python",
   "name": "python3"
  },
  "language_info": {
   "codemirror_mode": {
    "name": "ipython",
    "version": 3
   },
   "file_extension": ".py",
   "mimetype": "text/x-python",
   "name": "python",
   "nbconvert_exporter": "python",
   "pygments_lexer": "ipython3",
   "version": "3.7.6"
  }
 },
 "nbformat": 4,
 "nbformat_minor": 4
}
