{
 "cells": [
  {
   "cell_type": "markdown",
   "metadata": {},
   "source": [
    "## [カズくん問題](https://twitter.com/Kzs_xx_/status/1308253374949646337)の検証コード"
   ]
  },
  {
   "cell_type": "markdown",
   "metadata": {},
   "source": [
    "### カズくんの戦略(アルゴリズム)\n",
    "\n",
    "ひとつ前の値 bf  \n",
    "二つ前の値 bfbf  \n",
    "返り値は最新の値"
   ]
  },
  {
   "cell_type": "code",
   "execution_count": 1,
   "metadata": {},
   "outputs": [],
   "source": [
    "#Algolithm function\n",
    "def algo(bf,bfbf):\n",
    "\n",
    "    if(bf > bfbf):\n",
    "        diff = bf - bfbf\n",
    "    else:\n",
    "        diff = bf + 100 - bfbf\n",
    "        \n",
    "    delta = (diff - 1)  % 99 +1\n",
    "    \n",
    "    ret = (bf + delta - 1) % 100 + 1\n",
    "\n",
    "    return ret\n"
   ]
  },
  {
   "cell_type": "markdown",
   "metadata": {},
   "source": [
    "### カズくんの挑戦\n",
    "\n",
    "最初の二つの組のペア a,b  \n",
    "返り値はカズくんのいう数字のリスト\n"
   ]
  },
  {
   "cell_type": "code",
   "execution_count": 2,
   "metadata": {},
   "outputs": [],
   "source": [
    "#kau kun function\n",
    "def kazukun_challenge(a,b,print_data = False):\n",
    "    if(a==b or a>100 or a < 1 or b>100 or b < 1):\n",
    "        print (\"err func a=b\")\n",
    "        return 0\n",
    "    \n",
    "    before_of_before =min(a,b)\n",
    "    before = max(a,b)\n",
    "    if(print_data):\n",
    "        print(\"1 :\",before_of_before)\n",
    "        print(\"2 :\",before,)\n",
    "        \n",
    "    list=[before_of_before,before]\n",
    "\n",
    "    for i in range(3,101):\n",
    "\n",
    "        #Algolithm    \n",
    "        current = algo(before,before_of_before)\n",
    "\n",
    "        #Output\n",
    "        if(print_data):\n",
    "            print(i,\":\",current,\"(\",before,\",\",before_of_before,\")\")\n",
    "        list+=[current]\n",
    "\n",
    "        #rRefresh\n",
    "        before_of_before = before\n",
    "        before = current\n",
    "        \n",
    "\n",
    "    return list;\n"
   ]
  },
  {
   "cell_type": "markdown",
   "metadata": {},
   "source": [
    "### 特定の初期値ペアに対する検証"
   ]
  },
  {
   "cell_type": "code",
   "execution_count": 3,
   "metadata": {},
   "outputs": [
    {
     "name": "stdout",
     "output_type": "stream",
     "text": [
      "1 : 1\n",
      "2 : 4\n",
      "3 : 7 ( 4 , 1 )\n",
      "4 : 10 ( 7 , 4 )\n",
      "5 : 13 ( 10 , 7 )\n",
      "6 : 16 ( 13 , 10 )\n",
      "7 : 19 ( 16 , 13 )\n",
      "8 : 22 ( 19 , 16 )\n",
      "9 : 25 ( 22 , 19 )\n",
      "10 : 28 ( 25 , 22 )\n",
      "11 : 31 ( 28 , 25 )\n",
      "12 : 34 ( 31 , 28 )\n",
      "13 : 37 ( 34 , 31 )\n",
      "14 : 40 ( 37 , 34 )\n",
      "15 : 43 ( 40 , 37 )\n",
      "16 : 46 ( 43 , 40 )\n",
      "17 : 49 ( 46 , 43 )\n",
      "18 : 52 ( 49 , 46 )\n",
      "19 : 55 ( 52 , 49 )\n",
      "20 : 58 ( 55 , 52 )\n",
      "21 : 61 ( 58 , 55 )\n",
      "22 : 64 ( 61 , 58 )\n",
      "23 : 67 ( 64 , 61 )\n",
      "24 : 70 ( 67 , 64 )\n",
      "25 : 73 ( 70 , 67 )\n",
      "26 : 76 ( 73 , 70 )\n",
      "27 : 79 ( 76 , 73 )\n",
      "28 : 82 ( 79 , 76 )\n",
      "29 : 85 ( 82 , 79 )\n",
      "30 : 88 ( 85 , 82 )\n",
      "31 : 91 ( 88 , 85 )\n",
      "32 : 94 ( 91 , 88 )\n",
      "33 : 97 ( 94 , 91 )\n",
      "34 : 100 ( 97 , 94 )\n",
      "35 : 3 ( 100 , 97 )\n",
      "36 : 6 ( 3 , 100 )\n",
      "37 : 9 ( 6 , 3 )\n",
      "38 : 12 ( 9 , 6 )\n",
      "39 : 15 ( 12 , 9 )\n",
      "40 : 18 ( 15 , 12 )\n",
      "41 : 21 ( 18 , 15 )\n",
      "42 : 24 ( 21 , 18 )\n",
      "43 : 27 ( 24 , 21 )\n",
      "44 : 30 ( 27 , 24 )\n",
      "45 : 33 ( 30 , 27 )\n",
      "46 : 36 ( 33 , 30 )\n",
      "47 : 39 ( 36 , 33 )\n",
      "48 : 42 ( 39 , 36 )\n",
      "49 : 45 ( 42 , 39 )\n",
      "50 : 48 ( 45 , 42 )\n",
      "51 : 51 ( 48 , 45 )\n",
      "52 : 54 ( 51 , 48 )\n",
      "53 : 57 ( 54 , 51 )\n",
      "54 : 60 ( 57 , 54 )\n",
      "55 : 63 ( 60 , 57 )\n",
      "56 : 66 ( 63 , 60 )\n",
      "57 : 69 ( 66 , 63 )\n",
      "58 : 72 ( 69 , 66 )\n",
      "59 : 75 ( 72 , 69 )\n",
      "60 : 78 ( 75 , 72 )\n",
      "61 : 81 ( 78 , 75 )\n",
      "62 : 84 ( 81 , 78 )\n",
      "63 : 87 ( 84 , 81 )\n",
      "64 : 90 ( 87 , 84 )\n",
      "65 : 93 ( 90 , 87 )\n",
      "66 : 96 ( 93 , 90 )\n",
      "67 : 99 ( 96 , 93 )\n",
      "68 : 2 ( 99 , 96 )\n",
      "69 : 5 ( 2 , 99 )\n",
      "70 : 8 ( 5 , 2 )\n",
      "71 : 11 ( 8 , 5 )\n",
      "72 : 14 ( 11 , 8 )\n",
      "73 : 17 ( 14 , 11 )\n",
      "74 : 20 ( 17 , 14 )\n",
      "75 : 23 ( 20 , 17 )\n",
      "76 : 26 ( 23 , 20 )\n",
      "77 : 29 ( 26 , 23 )\n",
      "78 : 32 ( 29 , 26 )\n",
      "79 : 35 ( 32 , 29 )\n",
      "80 : 38 ( 35 , 32 )\n",
      "81 : 41 ( 38 , 35 )\n",
      "82 : 44 ( 41 , 38 )\n",
      "83 : 47 ( 44 , 41 )\n",
      "84 : 50 ( 47 , 44 )\n",
      "85 : 53 ( 50 , 47 )\n",
      "86 : 56 ( 53 , 50 )\n",
      "87 : 59 ( 56 , 53 )\n",
      "88 : 62 ( 59 , 56 )\n",
      "89 : 65 ( 62 , 59 )\n",
      "90 : 68 ( 65 , 62 )\n",
      "91 : 71 ( 68 , 65 )\n",
      "92 : 74 ( 71 , 68 )\n",
      "93 : 77 ( 74 , 71 )\n",
      "94 : 80 ( 77 , 74 )\n",
      "95 : 83 ( 80 , 77 )\n",
      "96 : 86 ( 83 , 80 )\n",
      "97 : 89 ( 86 , 83 )\n",
      "98 : 92 ( 89 , 86 )\n",
      "99 : 95 ( 92 , 89 )\n",
      "100 : 98 ( 95 , 92 )\n"
     ]
    }
   ],
   "source": [
    "#check single case\n",
    "\n",
    "check = kazukun_challenge(1,4,True)\n",
    "\n",
    "for l in range(1,101):\n",
    "     if ((l in check) == False):\n",
    "            print (\"missing \",l)"
   ]
  },
  {
   "cell_type": "markdown",
   "metadata": {},
   "source": [
    "### 全初期値ペアの総当たり検証"
   ]
  },
  {
   "cell_type": "code",
   "execution_count": 4,
   "metadata": {},
   "outputs": [
    {
     "name": "stdout",
     "output_type": "stream",
     "text": [
      "bad\n"
     ]
    }
   ],
   "source": [
    "#check all cases\n",
    "\n",
    "flag_all = False\n",
    "for j in range(1,101): \n",
    "    #print(j)\n",
    "    for k in range(j+1,101):\n",
    "        out = kazukun_challenge(j,k)\n",
    "        flag_single=flag=False\n",
    "        for l in range(1,101):\n",
    "            if ((l in out) == False):\n",
    "                flag_single=True\n",
    "                #print (\"case\",j,k,\"missing \",l)\n",
    "        if (flag_single):\n",
    "            flag_all = True\n",
    "            #print(\"bad case:\",j,k)\n",
    "        #else:\n",
    "        #    print(\"good case\",j,k)    \n",
    "if (flag_all) :\n",
    "    print (\"bad\")\n",
    "else:\n",
    "    print (\"good\")\n"
   ]
  },
  {
   "cell_type": "code",
   "execution_count": null,
   "metadata": {},
   "outputs": [],
   "source": []
  }
 ],
 "metadata": {
  "kernelspec": {
   "display_name": "Python 3",
   "language": "python",
   "name": "python3"
  },
  "language_info": {
   "codemirror_mode": {
    "name": "ipython",
    "version": 3
   },
   "file_extension": ".py",
   "mimetype": "text/x-python",
   "name": "python",
   "nbconvert_exporter": "python",
   "pygments_lexer": "ipython3",
   "version": "3.7.6"
  }
 },
 "nbformat": 4,
 "nbformat_minor": 4
}
