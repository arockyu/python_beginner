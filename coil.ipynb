{
 "cells": [
  {
   "cell_type": "markdown",
   "metadata": {},
   "source": [
    "# コイルのインダクタンスの計算\n",
    "\n",
    "\n",
    "\n"
   ]
  },
  {
   "cell_type": "markdown",
   "metadata": {},
   "source": [
    "### 矩形コイル\n"
   ]
  },
  {
   "cell_type": "code",
   "execution_count": 1,
   "metadata": {},
   "outputs": [
    {
     "name": "stdout",
     "output_type": "stream",
     "text": [
      "μ0= 1.2566370614359173e-06 N A^-2\n",
      "π= 3.141592653589793\n"
     ]
    }
   ],
   "source": [
    "import numpy as np\n",
    "import scipy.constants as spc\n",
    "\n",
    "mu_0=spc.mu_0 #真空の誘電率\n",
    "\n",
    "print(\"μ0=\",mu_0,spc.unit('vacuum mag. permeability'))\n",
    "print(\"π=\",spc.pi)"
   ]
  },
  {
   "cell_type": "code",
   "execution_count": 2,
   "metadata": {},
   "outputs": [],
   "source": [
    "# a　　a辺長[m]\n",
    "# b　　b辺長[m]\n",
    "# phi  コイル径[m]\n",
    "# N 　 巻き数\n",
    "# mu_s 比透磁率\n",
    "\n",
    "def induct_rect(a,b,phi,N=1,mu_s=1.0):\n",
    "    r=phi/2.0\n",
    "    mu=mu_0*mu_s\n",
    "    L_per_turn=(b*np.log(a/r)+a*np.log(b/r))*mu_0/np.pi\n",
    "    return N*L_per_turn\n",
    "    "
   ]
  },
  {
   "cell_type": "code",
   "execution_count": 3,
   "metadata": {},
   "outputs": [],
   "source": [
    "L=induct_rect(0.02,0.02,0.00055,28)"
   ]
  },
  {
   "cell_type": "code",
   "execution_count": 4,
   "metadata": {},
   "outputs": [
    {
     "data": {
      "text/plain": [
       "1.9204489717815613e-06"
      ]
     },
     "execution_count": 4,
     "metadata": {},
     "output_type": "execute_result"
    }
   ],
   "source": [
    "L"
   ]
  },
  {
   "cell_type": "code",
   "execution_count": 5,
   "metadata": {},
   "outputs": [
    {
     "data": {
      "text/plain": [
       "82873.82035683592"
      ]
     },
     "execution_count": 5,
     "metadata": {},
     "output_type": "execute_result"
    }
   ],
   "source": [
    "1.0/(2*np.pi*L)"
   ]
  },
  {
   "cell_type": "code",
   "execution_count": null,
   "metadata": {},
   "outputs": [],
   "source": []
  },
  {
   "cell_type": "markdown",
   "metadata": {},
   "source": [
    "### 円形コイル"
   ]
  }
 ],
 "metadata": {
  "kernelspec": {
   "display_name": "Python 3",
   "language": "python",
   "name": "python3"
  },
  "language_info": {
   "codemirror_mode": {
    "name": "ipython",
    "version": 3
   },
   "file_extension": ".py",
   "mimetype": "text/x-python",
   "name": "python",
   "nbconvert_exporter": "python",
   "pygments_lexer": "ipython3",
   "version": "3.7.6"
  }
 },
 "nbformat": 4,
 "nbformat_minor": 4
}
