{
 "cells": [
  {
   "cell_type": "markdown",
   "metadata": {},
   "source": [
    "<h2>matplotlibによるjpegファイル読み込みのメモ</h2>\n",
    "<br>\n",
    "<h3>①jpegファイルの表示</h3>\n",
    "\n",
    "<p>まずドキュメントの<a href= \"https://matplotlib.org/3.2.1/tutorials/introductory/images.html#sphx-glr-tutorials-introductory-images-py\">チュートリアル</a>にある方法をでファイルをプロット<br>\n",
    "\n",
    "使用するmatplotlibのメソッド<br>\n",
    "<a href= \"https://matplotlib.org/3.2.1/api/image_api.html#matplotlib.image.imread\" >matplotlib.image.imread()</a><br>\n",
    "<a href= \"https://matplotlib.org/3.2.1/api/_as_gen/matplotlib.pyplot.imshow.html#matplotlib-pyplot-imshow\" >matplotlib.pyplot.imshow()</a>\n",
    "    </p>\n"
   ]
  },
  {
   "cell_type": "code",
   "execution_count": 1,
   "metadata": {},
   "outputs": [
    {
     "ename": "FileNotFoundError",
     "evalue": "[Errno 2] No such file or directory: 'Parrots.jpg'",
     "output_type": "error",
     "traceback": [
      "\u001b[1;31m---------------------------------------------------------------------------\u001b[0m",
      "\u001b[1;31mFileNotFoundError\u001b[0m                         Traceback (most recent call last)",
      "\u001b[1;32m<ipython-input-1-a7b03e9547b6>\u001b[0m in \u001b[0;36m<module>\u001b[1;34m\u001b[0m\n\u001b[0;32m      7\u001b[0m \u001b[1;33m\u001b[0m\u001b[0m\n\u001b[0;32m      8\u001b[0m \u001b[1;33m\u001b[0m\u001b[0m\n\u001b[1;32m----> 9\u001b[1;33m \u001b[0mimg\u001b[0m \u001b[1;33m=\u001b[0m \u001b[0mmpimg\u001b[0m\u001b[1;33m.\u001b[0m\u001b[0mimread\u001b[0m\u001b[1;33m(\u001b[0m\u001b[0mf_name\u001b[0m\u001b[1;33m)\u001b[0m \u001b[1;31m#jpegファイルの読み込み\u001b[0m\u001b[1;33m\u001b[0m\u001b[1;33m\u001b[0m\u001b[0m\n\u001b[0m\u001b[0;32m     10\u001b[0m \u001b[1;33m\u001b[0m\u001b[0m\n\u001b[0;32m     11\u001b[0m \u001b[0mimgplot\u001b[0m \u001b[1;33m=\u001b[0m \u001b[0mplt\u001b[0m\u001b[1;33m.\u001b[0m\u001b[0mimshow\u001b[0m\u001b[1;33m(\u001b[0m\u001b[0mimg\u001b[0m\u001b[1;33m)\u001b[0m  \u001b[1;31m#jpegファイルの描画\u001b[0m\u001b[1;33m\u001b[0m\u001b[1;33m\u001b[0m\u001b[0m\n",
      "\u001b[1;32mC:\\ProgramData\\Anaconda3\\lib\\site-packages\\matplotlib\\image.py\u001b[0m in \u001b[0;36mimread\u001b[1;34m(fname, format)\u001b[0m\n\u001b[0;32m   1415\u001b[0m                              \u001b[1;34m'with Pillow installed matplotlib can handle '\u001b[0m\u001b[1;33m\u001b[0m\u001b[1;33m\u001b[0m\u001b[0m\n\u001b[0;32m   1416\u001b[0m                              'more images' % list(handlers))\n\u001b[1;32m-> 1417\u001b[1;33m         \u001b[1;32mwith\u001b[0m \u001b[0mImage\u001b[0m\u001b[1;33m.\u001b[0m\u001b[0mopen\u001b[0m\u001b[1;33m(\u001b[0m\u001b[0mfname\u001b[0m\u001b[1;33m)\u001b[0m \u001b[1;32mas\u001b[0m \u001b[0mimage\u001b[0m\u001b[1;33m:\u001b[0m\u001b[1;33m\u001b[0m\u001b[1;33m\u001b[0m\u001b[0m\n\u001b[0m\u001b[0;32m   1418\u001b[0m             \u001b[1;32mreturn\u001b[0m \u001b[0mpil_to_array\u001b[0m\u001b[1;33m(\u001b[0m\u001b[0mimage\u001b[0m\u001b[1;33m)\u001b[0m\u001b[1;33m\u001b[0m\u001b[1;33m\u001b[0m\u001b[0m\n\u001b[0;32m   1419\u001b[0m \u001b[1;33m\u001b[0m\u001b[0m\n",
      "\u001b[1;32mC:\\ProgramData\\Anaconda3\\lib\\site-packages\\PIL\\Image.py\u001b[0m in \u001b[0;36mopen\u001b[1;34m(fp, mode)\u001b[0m\n\u001b[0;32m   2807\u001b[0m \u001b[1;33m\u001b[0m\u001b[0m\n\u001b[0;32m   2808\u001b[0m     \u001b[1;32mif\u001b[0m \u001b[0mfilename\u001b[0m\u001b[1;33m:\u001b[0m\u001b[1;33m\u001b[0m\u001b[1;33m\u001b[0m\u001b[0m\n\u001b[1;32m-> 2809\u001b[1;33m         \u001b[0mfp\u001b[0m \u001b[1;33m=\u001b[0m \u001b[0mbuiltins\u001b[0m\u001b[1;33m.\u001b[0m\u001b[0mopen\u001b[0m\u001b[1;33m(\u001b[0m\u001b[0mfilename\u001b[0m\u001b[1;33m,\u001b[0m \u001b[1;34m\"rb\"\u001b[0m\u001b[1;33m)\u001b[0m\u001b[1;33m\u001b[0m\u001b[1;33m\u001b[0m\u001b[0m\n\u001b[0m\u001b[0;32m   2810\u001b[0m         \u001b[0mexclusive_fp\u001b[0m \u001b[1;33m=\u001b[0m \u001b[1;32mTrue\u001b[0m\u001b[1;33m\u001b[0m\u001b[1;33m\u001b[0m\u001b[0m\n\u001b[0;32m   2811\u001b[0m \u001b[1;33m\u001b[0m\u001b[0m\n",
      "\u001b[1;31mFileNotFoundError\u001b[0m: [Errno 2] No such file or directory: 'Parrots.jpg'"
     ]
    }
   ],
   "source": [
    "%matplotlib inline\n",
    "import numpy as np\n",
    "import matplotlib.pyplot as plt\n",
    "import matplotlib.image as mpimg\n",
    "\n",
    "f_name=\"Parrots.jpg\" #jpegファイル名\n",
    "\n",
    "\n",
    "img = mpimg.imread(f_name) #jpegファイルの読み込み\n",
    "\n",
    "imgplot = plt.imshow(img)  #jpegファイルの描画\n"
   ]
  },
  {
   "cell_type": "markdown",
   "metadata": {},
   "source": [
    "<h3>②読み込んだimgの確認</h3>\n",
    "<p>numpyの<a href=\"https://numpy.org/doc/stable/reference/generated/numpy.ndarray.html#numpy.ndarray\">ndarray</a>クラスの模様、またデータは150×150 pixel のRGB3色データ(画素は0～256の整数型(unit8))の模様</p>"
   ]
  },
  {
   "cell_type": "code",
   "execution_count": null,
   "metadata": {},
   "outputs": [],
   "source": [
    "type(img)"
   ]
  },
  {
   "cell_type": "code",
   "execution_count": null,
   "metadata": {},
   "outputs": [],
   "source": [
    "img.shape"
   ]
  },
  {
   "cell_type": "code",
   "execution_count": null,
   "metadata": {},
   "outputs": [],
   "source": [
    "img.dtype"
   ]
  },
  {
   "cell_type": "code",
   "execution_count": null,
   "metadata": {},
   "outputs": [],
   "source": [
    "img.size,150*150*3"
   ]
  },
  {
   "cell_type": "markdown",
   "metadata": {},
   "source": [
    "<h3>③imgplotの確認</h3>"
   ]
  },
  {
   "cell_type": "code",
   "execution_count": null,
   "metadata": {},
   "outputs": [],
   "source": [
    "type(imgplot)"
   ]
  },
  {
   "cell_type": "code",
   "execution_count": null,
   "metadata": {},
   "outputs": [],
   "source": [
    "dir(imgplot)"
   ]
  },
  {
   "cell_type": "code",
   "execution_count": null,
   "metadata": {},
   "outputs": [],
   "source": [
    "type(imgplot.axes)"
   ]
  },
  {
   "cell_type": "code",
   "execution_count": null,
   "metadata": {},
   "outputs": [],
   "source": [
    "dir(imgplot.axes)"
   ]
  },
  {
   "cell_type": "markdown",
   "metadata": {},
   "source": [
    "<p>調べた結果\n",
    "imgplotは<a href=\"https://matplotlib.org/3.2.1/api/image_api.html#matplotlib.image.AxesImage\">matplotlib.image.AxesImage</a>クラスでそのアトリビュートにaxesがあり、\n",
    "\n",
    "その型を調べると<a>matplotlib.axes._subplots.AxesSubplot</a>クラスでアトリビュートを見る限りおそらく<a href=\"https://matplotlib.org/3.2.1/api/axes_api.html#the-axes-class\">matplotlib.axes</a>の近縁のようでaxexクラスのメソッドが有効そうなのでとりあえずset_xtick(),set_ytick()メソッドで目盛を外してみる。(引数としてからのリスト<a>[]</a>を渡す)</p>"
   ]
  },
  {
   "cell_type": "code",
   "execution_count": null,
   "metadata": {},
   "outputs": [],
   "source": [
    "imgplot = plt.imshow(img)\n",
    "imgplot.axes.set_xticks([]) #x軸の目盛を削除\n",
    "imgplot.axes.set_yticks([]) #y軸の目盛を削除"
   ]
  },
  {
   "cell_type": "markdown",
   "metadata": {},
   "source": [
    "<h3>④グレイスケールとRGBの分離とマルチプロット</h3>\n",
    "\n",
    "<p>まず画素のRGB各RGBのみを取り出す。\n",
    "<a href= \"https://matplotlib.org/3.2.1/tutorials/introductory/images.html#sphx-glr-tutorials-introductory-images-py\">チュートリアル</a>のやり方を参考にすると各色一行のコードで記述可能。(おをらくnumpyの機能)</p>\n",
    "\n",
    "<p>チュートリアル曰く画素がRGB(またはRGBA)の場合0-255整数(uint8)か0-1の少数(float32)をサポートするが、グレイスケールの場合float32型の値のみのサポートとのこなのでとりあえず[0:1]にスケーリング</p>\n",
    "\n",
    "<p>※チュートリアルではグレースケールと言っているが厳密には単色画素もしくは<a href= \"https://matplotlib.org/3.2.1/api/_as_gen/matplotlib.pyplot.imshow.html#matplotlib-pyplot-imshow\">imshow()</a>のリファランスの言葉を借りてscalar dataというのが妥当そう。</p>\n",
    "\n",
    "<p>RGBの画素の平均値をとってgscale_imgとする。これはnumpy.ndarayの<a href=\"https://numpy.org/doc/stable/reference/generated/numpy.ndarray.mean.html#numpy.ndarray.mean\">mean()</a>メソッドで簡単にできる。\n",
    "ついでに[0:1]にスケーリング。\n",
    "また後述の理由により反転</p>"
   ]
  },
  {
   "cell_type": "code",
   "execution_count": null,
   "metadata": {},
   "outputs": [],
   "source": [
    "red_img   = img[:,:,0] /255.  #R値の取り出し及び[0:256](uint8) →[0:1](float)のスケーリング\n",
    "green_img = img[:,:,1] /255.  #G値の取り出し及び[0:256](uint8) →[0:1](float)のスケーリング\n",
    "blue_img  = img[:,:,2] /255.  #B値の取り出し及び[0:256](uint8) →[0:1](float)のスケーリング\n",
    "\n",
    "gscale_img = 1. - img.mean(2)/255. #RGBの平均値取得[0:256](uint8) →[0:1](float)のスケーリング、反転"
   ]
  },
  {
   "cell_type": "markdown",
   "metadata": {},
   "source": [
    "<p>マルチプロットするための<a href =\"https://matplotlib.org/3.2.1/api/_as_gen/matplotlib.pyplot.subplots.html?highlight=subplots#matplotlib.pyplot.subplots\">matlibplo.pyplot.subplots()</a>で生成されたAxesオブジェクト(以下ではaxs[][])には<a href=\"https://matplotlib.org/3.2.1/api/_as_gen/matplotlib.axes.Axes.imshow.html#matplotlib.axes.Axes.imshow\">1show()</a>メソッドがあり、ファランスを見る限り<a href= \"https://matplotlib.org/3.2.1/api/_as_gen/matplotlib.pyplot.imshow.html#matplotlib-pyplot-imshow\" >matplotlib.pyplot.imshow()</a>と内容は同じそうなのでaxs[i][j].imshow()で作った各データのマルチプロットでの描画を試してみる。</p>"
   ]
  },
  {
   "cell_type": "code",
   "execution_count": null,
   "metadata": {},
   "outputs": [],
   "source": [
    "fig, axs = plt.subplots(2, 3,figsize=[10.5,7.])   #2x3のマルチっプロットの作成\n"
   ]
  },
  {
   "cell_type": "code",
   "execution_count": null,
   "metadata": {},
   "outputs": [],
   "source": [
    "type(axs[0][0])"
   ]
  },
  {
   "cell_type": "code",
   "execution_count": null,
   "metadata": {},
   "outputs": [],
   "source": [
    "dir(axs[0][0])"
   ]
  },
  {
   "cell_type": "markdown",
   "metadata": {},
   "source": [
    "<p>ここで<a href=\"https://matplotlib.org/3.2.1/api/_as_gen/matplotlib.axes.Axes.imshow.html#matplotlib.axes.Axes.imshow\">いｍshow()</a>の引数cmapは単色画像(scalor data)を表示する場合のカラーマップを指定するもので、この<a href=\"https://matplotlib.org/3.2.1/tutorials/colors/colormaps.html\">リンク</a>先が詳しい</p>\n",
    "\n",
    "<p>\n",
    "RGB各職に対応したグラデーションパターン\"Reds\",\"Greens\",\"Blues\"もあり各色の表示にはそれを使う、ただし、グレースケールも\"Greys\"としてあるが先ほどRGBの平均値を使う場合は注意が必要、RGBは光の三原色なので平均値をとると輝度値(0が黒で1が白)になる、一方\"Greys\"は値が大きくなるにつれて白→黒となるパターンとなる。これが先ほどグレースケールで反転を使った理由。\n",
    "</p>"
   ]
  },
  {
   "cell_type": "code",
   "execution_count": null,
   "metadata": {},
   "outputs": [],
   "source": [
    "fig, axs = plt.subplots(2, 3,figsize=[10.5,7.])   #2x3のマルチっプロットの作成\n",
    "\n",
    "\n",
    "axs[0][0].imshow(img)\n",
    "axs[0][0].set_xticks([])\n",
    "axs[0][0].set_yticks([])\n",
    "axs[0][0].set_title(\"Original Image\")\n",
    "\n",
    "axs[0][1].imshow(gscale_img,cmap=\"Greys\")\n",
    "axs[0][1].set_xticks([])\n",
    "axs[0][1].set_yticks([])\n",
    "axs[0][1].set_title(\"Grey\")\n",
    "\n",
    "axs[0][2].imshow(1.-gscale_img,cmap=\"Greys\")    #グレースケールの反転\n",
    "axs[0][2].set_xticks([])\n",
    "axs[0][2].set_yticks([])\n",
    "axs[0][2].set_title(\"Negative Grey\")\n",
    "\n",
    "axs[1][0].imshow(red_img,cmap=\"Reds\")\n",
    "axs[1][0].set_xticks([])\n",
    "axs[1][0].set_yticks([])\n",
    "axs[1][0].set_title(\"Grey\")\n",
    "\n",
    "axs[1][1].imshow(green_img,cmap=\"Greens\")\n",
    "axs[1][1].set_xticks([])\n",
    "axs[1][1].set_yticks([])\n",
    "axs[1][1].set_title(\"Green\")\n",
    "\n",
    "axs[1][2].imshow(blue_img,cmap=\"Blues\")\n",
    "axs[1][2].set_xticks([])\n",
    "axs[1][2].set_yticks([])\n",
    "axs[1][2].set_title(\"Blue\")\n"
   ]
  },
  {
   "cell_type": "markdown",
   "metadata": {},
   "source": [
    "<p>作った単色画質にたいして色々演算などをやっていても思い通りに描画できないので調べてみると、<a href=\"https://matplotlib.org/3.2.1/api/_as_gen/matplotlib.axes.Axes.imshow.html#matplotlib.axes.Axes.imshow\">imshow()</a>メソッドでは単色スケールの表示はデフォルトでは画素値の最大値=>1、最小値=>0となるようにオートスケールさおり、そのスケールを固定するためにはimshow()のNormパラメータで設定可能とのこと。</p>\n",
    "<p>Normパラメータは<a href=\"https://matplotlib.org/3.2.1/api/_as_gen/matplotlib.colors.Normalize.html#matplotlib.colors.Normalize\"></a>matplotlib.colors.Normalizeクラスを渡す必要があり、matplotlib.colorsモジュールをmcolとしてインポートしてnormalize_fixというインスタンス(0～1に固定の意味、、)を作ってみた。\n",
    "以上によりオートスケールの無効化を試してみる。\n",
    "(おそらくカラーバー表示のグラフとかでも同様の手法が応用できると思われる。)</p>\n",
    "\n",
    "<p>出力の下段の通り画素値を半分にしたときオートスケール有効だと元の画像と変わらないがオートスケールを無効にすると薄く表示される。</p>\n"
   ]
  },
  {
   "cell_type": "code",
   "execution_count": null,
   "metadata": {},
   "outputs": [],
   "source": [
    "import matplotlib.colors as mpcol\n",
    "\n",
    "normalize_fix=mpcol.Normalize(0,1)\n",
    "\n",
    "fig, axs = plt.subplots(2, 3,figsize=[10.5,7.]) \n",
    "\n",
    "axs[0][0].imshow(img)\n",
    "axs[0][0].set_xticks([])\n",
    "axs[0][0].set_yticks([])\n",
    "axs[0][0].set_title(\"Original Image\")\n",
    "\n",
    "axs[0][1].imshow(gscale_img,cmap=\"Greys\",norm=normalize_fix)\n",
    "axs[0][1].set_xticks([])\n",
    "axs[0][1].set_yticks([])\n",
    "axs[0][1].set_title(\"Grey without Autoscale\")\n",
    "\n",
    "axs[0][2].imshow(1.-gscale_img,cmap=\"Greys\",norm=normalize_fix)\n",
    "axs[0][2].set_xticks([])\n",
    "axs[0][2].set_yticks([])\n",
    "axs[0][2].set_title(\"Negative Grey without Autoscale\")\n",
    "\n",
    "axs[1][0].imshow(gscale_img,cmap=\"Greys\")\n",
    "axs[1][0].set_xticks([])\n",
    "axs[1][0].set_yticks([])\n",
    "axs[1][0].set_title(\"Grey with Autoscale\")\n",
    "\n",
    "axs[1][1].imshow(gscale_img/2.,cmap=\"Greys\")\n",
    "axs[1][1].set_xticks([])\n",
    "axs[1][1].set_yticks([])\n",
    "axs[1][1].set_title(\"Grey/2.0 with Autoscale\")\n",
    "\n",
    "axs[1][2].imshow(gscale_img/2.,cmap=\"Greys\",norm=normalize_fix)\n",
    "axs[1][2].set_xticks([])\n",
    "axs[1][2].set_yticks([])\n",
    "axs[1][2].set_title(\"Grey/2.0 without Autoscale\")\n"
   ]
  },
  {
   "cell_type": "markdown",
   "metadata": {},
   "source": [
    "<p><a href=\"https://matplotlib.org/3.2.1/api/_as_gen/matplotlib.axes.Axes.imshow.html#matplotlib.axes.Axes.imshow\">imshow()</a>の説明をよく読むと直接引数としてvmin,vmaxを指定できそうなのでその方法も試してみる。こっちのほうが簡単</p>"
   ]
  },
  {
   "cell_type": "code",
   "execution_count": null,
   "metadata": {
    "scrolled": true
   },
   "outputs": [],
   "source": [
    "\n",
    "fig, axs = plt.subplots(2, 3,figsize=[10.5,7.]) \n",
    "\n",
    "axs[0][0].imshow(img)\n",
    "axs[0][0].set_xticks([])\n",
    "axs[0][0].set_yticks([])\n",
    "axs[0][0].set_title(\"Original Image\")\n",
    "\n",
    "axs[0][1].imshow(gscale_img,cmap=\"Greys\",vmin=0,vmax=1)\n",
    "axs[0][1].set_xticks([])\n",
    "axs[0][1].set_yticks([])\n",
    "axs[0][1].set_title(\"Grey without Autoscale\")\n",
    "\n",
    "axs[0][2].imshow(1.-gscale_img,cmap=\"Greys\",vmin=0,vmax=1)\n",
    "axs[0][2].set_xticks([])\n",
    "axs[0][2].set_yticks([])\n",
    "axs[0][2].set_title(\"Negative Grey without Autoscale\")\n",
    "\n",
    "axs[1][0].imshow(gscale_img,cmap=\"Greys\")\n",
    "axs[1][0].set_xticks([])\n",
    "axs[1][0].set_yticks([])\n",
    "axs[1][0].set_title(\"Grey with Autoscale\")\n",
    "\n",
    "axs[1][1].imshow(gscale_img/2.,cmap=\"Greys\")\n",
    "axs[1][1].set_xticks([])\n",
    "axs[1][1].set_yticks([])\n",
    "axs[1][1].set_title(\"Grey/2.0 with Autoscale\")\n",
    "\n",
    "axs[1][2].imshow(gscale_img/2.,cmap=\"Greys\",vmin=0,vmax=1)\n",
    "axs[1][2].set_xticks([])\n",
    "axs[1][2].set_yticks([])\n",
    "axs[1][2].set_title(\"Grey/2.0 without Autoscale\")\n"
   ]
  },
  {
   "cell_type": "markdown",
   "metadata": {},
   "source": [
    "調子に乗ってvmin,vmaxをいろいろいじってみる\n",
    "当然vmin<vmaxでないとエラーが出る。"
   ]
  },
  {
   "cell_type": "code",
   "execution_count": null,
   "metadata": {},
   "outputs": [],
   "source": [
    "fig, axs = plt.subplots(2, 2,figsize=[7.,7.]) \n",
    "\n",
    "axs[0][0].imshow(img)\n",
    "axs[0][0].set_xticks([])\n",
    "axs[0][0].set_yticks([])\n",
    "axs[0][0].set_title(\"Original Image\")\n",
    "\n",
    "axs[0][1].imshow(gscale_img,cmap=\"Greys\",vmin=0,vmax=1)\n",
    "axs[0][1].set_xticks([])\n",
    "axs[0][1].set_yticks([])\n",
    "axs[0][1].set_title(\"Grey vmin=0,vmin=1\")\n",
    "\n",
    "axs[1][0].imshow(gscale_img,cmap=\"Greys\",vmin=0.5,vmax=1)\n",
    "axs[1][0].set_xticks([])\n",
    "axs[1][0].set_yticks([])\n",
    "axs[1][0].set_title(\"Grey vmin=0.5,vmax=1\")\n",
    "\n",
    "axs[1][1].imshow(gscale_img,cmap=\"Greys\",vmin=0.0,vmax=0.5)\n",
    "axs[1][1].set_xticks([])\n",
    "axs[1][1].set_yticks([])\n",
    "axs[1][1].set_title(\"Grey  vmin=0,vmax=0.5\")"
   ]
  },
  {
   "cell_type": "code",
   "execution_count": null,
   "metadata": {},
   "outputs": [],
   "source": []
  }
 ],
 "metadata": {
  "kernelspec": {
   "display_name": "Python 3",
   "language": "python",
   "name": "python3"
  },
  "language_info": {
   "codemirror_mode": {
    "name": "ipython",
    "version": 3
   },
   "file_extension": ".py",
   "mimetype": "text/x-python",
   "name": "python",
   "nbconvert_exporter": "python",
   "pygments_lexer": "ipython3",
   "version": "3.7.6"
  }
 },
 "nbformat": 4,
 "nbformat_minor": 4
}
