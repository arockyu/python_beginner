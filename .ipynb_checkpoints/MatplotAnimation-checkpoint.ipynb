{
 "cells": [
  {
   "cell_type": "markdown",
   "metadata": {},
   "source": [
    "# matplotlibでアニメーション\n",
    "\n",
    "[matplotlib.animation](https://matplotlib.org/3.2.1/api/animation_api.html)を使ったアニメーションを試してみる。\n",
    "\n",
    "###### 参考にしたページ等\n",
    "* [https://qiita.com/msrks/items/e264872efa062c7d6955](https://qiita.com/msrks/items/e264872efa062c7d6955)\n",
    "* [https://matplotlib.org/3.2.1/gallery/index.html#animation](https://matplotlib.org/3.2.1/gallery/index.html#animation)\n",
    "\n",
    "\n",
    "### 1.とりあえず\n",
    "\n",
    "とりあえずmatplotlibの公式ページの[例](https://matplotlib.org/3.2.1/gallery/animation/animate_decay.html#sphx-glr-gallery-animation-animate-decay-py)と上記ページを参考にpngファイルを作ってみる。\n",
    "\n",
    "使用する機能は[matplotlib.animation.FuncAnimation](https://matplotlib.org/3.2.1/api/_as_gen/matplotlib.animation.FuncAnimation.html#matplotlib-animation-funcanimation)クラス,\n",
    "ほかにも[matplotlib.animation.Artistanimation](https://matplotlib.org/3.2.1/api/_as_gen/matplotlib.animation.ArtistAnimation.html#matplotlib-animation-artistanimation)クラスもあるようだけど、とりあえずまつこちらから。\n",
    "\n",
    "\n",
    "Gifの保存はその中は[matplotliv.animation](https://matplotlib.org/3.2.1/api/_as_gen/matplotlib.animation.Animation.html#matplotlib-animation-animation)クラスの[save](https://matplotlib.org/3.2.1/api/_as_gen/matplotlib.animation.Animation.html#matplotlib.animation.Animation.save)メソッド(anacondaのフルスペック環境なんであんまり気にならないが、、)"
   ]
  },
  {
   "cell_type": "code",
   "execution_count": 12,
   "metadata": {},
   "outputs": [
    {
     "name": "stderr",
     "output_type": "stream",
     "text": [
      "MovieWriter imagemagick unavailable; trying to use <class 'matplotlib.animation.PillowWriter'> instead.\n"
     ]
    },
    {
     "data": {
      "image/png": "[encoded data removed]",
      "text/plain": [
       "<Figure size 432x288 with 1 Axes>"
      ]
     },
     "metadata": {
      "needs_background": "light"
     },
     "output_type": "display_data"
    }
   ],
   "source": [
    "import numpy as np\n",
    "import matplotlib.pyplot as plt\n",
    "import matplotlib.animation as animation\n",
    "\n",
    "fig, ax = plt.subplots()\n",
    "\n",
    "x = np.arange(0, 2*np.pi, 0.01)\n",
    "line, = ax.plot(x, np.sin(x))\n",
    "\n",
    "\n",
    "def init():  # only required for blitting to give a clean slate.\n",
    "    line.set_ydata([np.nan] * len(x))\n",
    "    return line,\n",
    "\n",
    "\n",
    "def animate(i):\n",
    "    line.set_ydata(np.sin(x + i / 10))  # update the data.\n",
    "    return line,\n",
    "\n",
    "\n",
    "ani = animation.FuncAnimation(\n",
    "    fig, animate, init_func=init, interval=20, blit=True, save_count=50)\n",
    "\n",
    "\n",
    "ani.save(\"anim.gif\", writer=\"imagemagick\")\n",
    "\n",
    "#plt.show()"
   ]
  },
  {
   "attachments": {},
   "cell_type": "markdown",
   "metadata": {},
   "source": [
    "出来上がったアニメメーションGIFファイル\n"
   ]
  },
  {
   "cell_type": "markdown",
   "metadata": {},
   "source": [
    "FuncAnimationはlineという変数を返す関数を引数にしてるがこのlineは[matplotliv.pyplot.plot()](https://matplotlib.org/3.2.1/api/_as_gen/matplotlib.pyplot.plot.html#matplotlib-pyplot-plot)の返り値をもとにしている。\n",
    "plot()のリファランスによると、は[matplotlib.lines.Line2D](https://matplotlib.org/3.2.1/api/_as_gen/matplotlib.lines.Line2D.html#matplotlib.lines.Line2D)クラスのリストを返すとのこと。\n",
    "\n",
    "どうやら以下の構文(,付き代入)は渡されたリストの要素のLine2Dクラスのインスタンスをlineに渡すようである。\n",
    "\n",
    "``` python\n",
    "line, = ax.plot(x, np.sin(x))\n",
    "```\n",
    "\n",
    "\n",
    "line2Dをもう少し調べてみる\n"
   ]
  },
  {
   "cell_type": "code",
   "execution_count": 2,
   "metadata": {},
   "outputs": [
    {
     "data": {
      "text/plain": [
       "<matplotlib.lines.Line2D at 0x516a1c38c8>"
      ]
     },
     "execution_count": 2,
     "metadata": {},
     "output_type": "execute_result"
    }
   ],
   "source": [
    "line"
   ]
  },
  {
   "cell_type": "code",
   "execution_count": 3,
   "metadata": {},
   "outputs": [
    {
     "data": {
      "text/plain": [
       "['__class__',\n",
       " '__delattr__',\n",
       " '__dict__',\n",
       " '__dir__',\n",
       " '__doc__',\n",
       " '__eq__',\n",
       " '__format__',\n",
       " '__ge__',\n",
       " '__getattribute__',\n",
       " '__getstate__',\n",
       " '__gt__',\n",
       " '__hash__',\n",
       " '__init__',\n",
       " '__init_subclass__',\n",
       " '__le__',\n",
       " '__lt__',\n",
       " '__module__',\n",
       " '__ne__',\n",
       " '__new__',\n",
       " '__reduce__',\n",
       " '__reduce_ex__',\n",
       " '__repr__',\n",
       " '__setattr__',\n",
       " '__sizeof__',\n",
       " '__str__',\n",
       " '__subclasshook__',\n",
       " '__weakref__',\n",
       " '_agg_filter',\n",
       " '_alias_map',\n",
       " '_alpha',\n",
       " '_animated',\n",
       " '_antialiased',\n",
       " '_axes',\n",
       " '_clipon',\n",
       " '_clippath',\n",
       " '_color',\n",
       " '_contains',\n",
       " '_dashOffset',\n",
       " '_dashSeq',\n",
       " '_dashcapstyle',\n",
       " '_dashjoinstyle',\n",
       " '_drawStyles_l',\n",
       " '_drawStyles_s',\n",
       " '_drawstyle',\n",
       " '_get_clipping_extent_bbox',\n",
       " '_get_markerfacecolor',\n",
       " '_get_transformed_path',\n",
       " '_gid',\n",
       " '_in_layout',\n",
       " '_invalidx',\n",
       " '_invalidy',\n",
       " '_is_sorted',\n",
       " '_label',\n",
       " '_lineStyles',\n",
       " '_linestyle',\n",
       " '_linestyles',\n",
       " '_linewidth',\n",
       " '_marker',\n",
       " '_markeredgecolor',\n",
       " '_markeredgewidth',\n",
       " '_markerfacecolor',\n",
       " '_markerfacecoloralt',\n",
       " '_markersize',\n",
       " '_markevery',\n",
       " '_mouseover',\n",
       " '_oid',\n",
       " '_path',\n",
       " '_path_effects',\n",
       " '_picker',\n",
       " '_prop_order',\n",
       " '_propobservers',\n",
       " '_rasterized',\n",
       " '_remove_method',\n",
       " '_set_gc_clip',\n",
       " '_sketch',\n",
       " '_snap',\n",
       " '_solidcapstyle',\n",
       " '_solidjoinstyle',\n",
       " '_split_drawstyle_linestyle',\n",
       " '_stale',\n",
       " '_sticky_edges',\n",
       " '_subslice',\n",
       " '_transform',\n",
       " '_transformSet',\n",
       " '_transform_path',\n",
       " '_transformed_path',\n",
       " '_url',\n",
       " '_us_dashOffset',\n",
       " '_us_dashSeq',\n",
       " '_visible',\n",
       " '_x',\n",
       " '_x_filled',\n",
       " '_xcid',\n",
       " '_xorig',\n",
       " '_xy',\n",
       " '_y',\n",
       " '_ycid',\n",
       " '_yorig',\n",
       " 'add_callback',\n",
       " 'aname',\n",
       " 'axes',\n",
       " 'clipbox',\n",
       " 'contains',\n",
       " 'convert_xunits',\n",
       " 'convert_yunits',\n",
       " 'draw',\n",
       " 'drawStyleKeys',\n",
       " 'drawStyles',\n",
       " 'eventson',\n",
       " 'figure',\n",
       " 'fillStyles',\n",
       " 'filled_markers',\n",
       " 'findobj',\n",
       " 'format_cursor_data',\n",
       " 'get_aa',\n",
       " 'get_agg_filter',\n",
       " 'get_alpha',\n",
       " 'get_animated',\n",
       " 'get_antialiased',\n",
       " 'get_c',\n",
       " 'get_children',\n",
       " 'get_clip_box',\n",
       " 'get_clip_on',\n",
       " 'get_clip_path',\n",
       " 'get_color',\n",
       " 'get_contains',\n",
       " 'get_cursor_data',\n",
       " 'get_dash_capstyle',\n",
       " 'get_dash_joinstyle',\n",
       " 'get_data',\n",
       " 'get_drawstyle',\n",
       " 'get_ds',\n",
       " 'get_figure',\n",
       " 'get_fillstyle',\n",
       " 'get_gid',\n",
       " 'get_in_layout',\n",
       " 'get_label',\n",
       " 'get_linestyle',\n",
       " 'get_linewidth',\n",
       " 'get_ls',\n",
       " 'get_lw',\n",
       " 'get_marker',\n",
       " 'get_markeredgecolor',\n",
       " 'get_markeredgewidth',\n",
       " 'get_markerfacecolor',\n",
       " 'get_markerfacecoloralt',\n",
       " 'get_markersize',\n",
       " 'get_markevery',\n",
       " 'get_mec',\n",
       " 'get_mew',\n",
       " 'get_mfc',\n",
       " 'get_mfcalt',\n",
       " 'get_ms',\n",
       " 'get_path',\n",
       " 'get_path_effects',\n",
       " 'get_picker',\n",
       " 'get_pickradius',\n",
       " 'get_rasterized',\n",
       " 'get_sketch_params',\n",
       " 'get_snap',\n",
       " 'get_solid_capstyle',\n",
       " 'get_solid_joinstyle',\n",
       " 'get_tightbbox',\n",
       " 'get_transform',\n",
       " 'get_transformed_clip_path_and_affine',\n",
       " 'get_url',\n",
       " 'get_visible',\n",
       " 'get_window_extent',\n",
       " 'get_xdata',\n",
       " 'get_xydata',\n",
       " 'get_ydata',\n",
       " 'get_zorder',\n",
       " 'have_units',\n",
       " 'ind_offset',\n",
       " 'is_dashed',\n",
       " 'is_transform_set',\n",
       " 'lineStyles',\n",
       " 'markers',\n",
       " 'mouseover',\n",
       " 'pchanged',\n",
       " 'pick',\n",
       " 'pickable',\n",
       " 'pickradius',\n",
       " 'properties',\n",
       " 'recache',\n",
       " 'recache_always',\n",
       " 'remove',\n",
       " 'remove_callback',\n",
       " 'set',\n",
       " 'set_aa',\n",
       " 'set_agg_filter',\n",
       " 'set_alpha',\n",
       " 'set_animated',\n",
       " 'set_antialiased',\n",
       " 'set_c',\n",
       " 'set_clip_box',\n",
       " 'set_clip_on',\n",
       " 'set_clip_path',\n",
       " 'set_color',\n",
       " 'set_contains',\n",
       " 'set_dash_capstyle',\n",
       " 'set_dash_joinstyle',\n",
       " 'set_dashes',\n",
       " 'set_data',\n",
       " 'set_drawstyle',\n",
       " 'set_ds',\n",
       " 'set_figure',\n",
       " 'set_fillstyle',\n",
       " 'set_gid',\n",
       " 'set_in_layout',\n",
       " 'set_label',\n",
       " 'set_linestyle',\n",
       " 'set_linewidth',\n",
       " 'set_ls',\n",
       " 'set_lw',\n",
       " 'set_marker',\n",
       " 'set_markeredgecolor',\n",
       " 'set_markeredgewidth',\n",
       " 'set_markerfacecolor',\n",
       " 'set_markerfacecoloralt',\n",
       " 'set_markersize',\n",
       " 'set_markevery',\n",
       " 'set_mec',\n",
       " 'set_mew',\n",
       " 'set_mfc',\n",
       " 'set_mfcalt',\n",
       " 'set_ms',\n",
       " 'set_path_effects',\n",
       " 'set_picker',\n",
       " 'set_pickradius',\n",
       " 'set_rasterized',\n",
       " 'set_sketch_params',\n",
       " 'set_snap',\n",
       " 'set_solid_capstyle',\n",
       " 'set_solid_joinstyle',\n",
       " 'set_transform',\n",
       " 'set_url',\n",
       " 'set_visible',\n",
       " 'set_xdata',\n",
       " 'set_ydata',\n",
       " 'set_zorder',\n",
       " 'stale',\n",
       " 'stale_callback',\n",
       " 'sticky_edges',\n",
       " 'update',\n",
       " 'update_from',\n",
       " 'validCap',\n",
       " 'validJoin',\n",
       " 'verticalOffset',\n",
       " 'zorder']"
      ]
     },
     "execution_count": 3,
     "metadata": {},
     "output_type": "execute_result"
    }
   ],
   "source": [
    "dir(line)"
   ]
  },
  {
   "cell_type": "markdown",
   "metadata": {},
   "source": [
    "クラスは[matplotlib.lines.Line2D](https://matplotlib.org/3.2.1/api/_as_gen/matplotlib.lines.Line2D.html#matplotlib.lines.Line2D)でx,yのデータを持っている模様\n",
    "[get_xdata()](https://matplotlib.org/3.2.1/api/_as_gen/matplotlib.lines.Line2D.html#matplotlib.lines.Line2D.get_xdata),[get_ydata()](https://matplotlib.org/3.2.1/api/_as_gen/matplotlib.lines.Line2D.html#matplotlib.lines.Line2D.get_xydata)を試してみる"
   ]
  },
  {
   "cell_type": "code",
   "execution_count": 4,
   "metadata": {},
   "outputs": [],
   "source": [
    "x=line.get_xdata()\n",
    "y=line.get_ydata()"
   ]
  },
  {
   "cell_type": "code",
   "execution_count": 5,
   "metadata": {},
   "outputs": [
    {
     "data": {
      "text/plain": [
       "numpy.ndarray"
      ]
     },
     "execution_count": 5,
     "metadata": {},
     "output_type": "execute_result"
    }
   ],
   "source": [
    "type(x)"
   ]
  },
  {
   "cell_type": "code",
   "execution_count": 6,
   "metadata": {},
   "outputs": [
    {
     "data": {
      "text/plain": [
       "1"
      ]
     },
     "execution_count": 6,
     "metadata": {},
     "output_type": "execute_result"
    }
   ],
   "source": [
    "x.ndim"
   ]
  },
  {
   "cell_type": "code",
   "execution_count": 7,
   "metadata": {},
   "outputs": [
    {
     "data": {
      "text/plain": [
       "(629,)"
      ]
     },
     "execution_count": 7,
     "metadata": {},
     "output_type": "execute_result"
    }
   ],
   "source": [
    "x.shape"
   ]
  },
  {
   "cell_type": "code",
   "execution_count": 8,
   "metadata": {},
   "outputs": [
    {
     "data": {
      "text/plain": [
       "numpy.ndarray"
      ]
     },
     "execution_count": 8,
     "metadata": {},
     "output_type": "execute_result"
    }
   ],
   "source": [
    "type(y)"
   ]
  },
  {
   "cell_type": "code",
   "execution_count": 9,
   "metadata": {},
   "outputs": [
    {
     "data": {
      "text/plain": [
       "1"
      ]
     },
     "execution_count": 9,
     "metadata": {},
     "output_type": "execute_result"
    }
   ],
   "source": [
    "y.ndim"
   ]
  },
  {
   "cell_type": "code",
   "execution_count": 10,
   "metadata": {},
   "outputs": [
    {
     "data": {
      "text/plain": [
       "(629,)"
      ]
     },
     "execution_count": 10,
     "metadata": {},
     "output_type": "execute_result"
    }
   ],
   "source": [
    "y.shape"
   ]
  },
  {
   "cell_type": "markdown",
   "metadata": {},
   "source": [
    "xdata,ydataは629個の1次元ndarrayであることがわかった。(ある程度読めていただが、、)"
   ]
  },
  {
   "cell_type": "code",
   "execution_count": null,
   "metadata": {},
   "outputs": [],
   "source": []
  }
 ],
 "metadata": {
  "kernelspec": {
   "display_name": "Python 3",
   "language": "python",
   "name": "python3"
  },
  "language_info": {
   "codemirror_mode": {
    "name": "ipython",
    "version": 3
   },
   "file_extension": ".py",
   "mimetype": "text/x-python",
   "name": "python",
   "nbconvert_exporter": "python",
   "pygments_lexer": "ipython3",
   "version": "3.7.6"
  }
 },
 "nbformat": 4,
 "nbformat_minor": 4
}
