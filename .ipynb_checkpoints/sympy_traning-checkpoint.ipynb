{
 "cells": [
  {
   "cell_type": "markdown",
   "metadata": {},
   "source": [
    "# SymPy試してみる\n",
    "\n",
    "[SymPy](https://docs.sympy.org/latest/index.html)ライブラリを試してみる。  \n",
    "\n",
    "まずは[tutorial](https://docs.sympy.org/latest/tutorial/intro.html)を参考にして、、、"
   ]
  },
  {
   "cell_type": "markdown",
   "metadata": {},
   "source": [
    "### 微分積分\n",
    "\n",
    "微分積分してみる。\n"
   ]
  },
  {
   "cell_type": "code",
   "execution_count": 7,
   "metadata": {},
   "outputs": [
    {
     "data": {
      "text/latex": [
       "$\\displaystyle \\int \\operatorname{asin}{\\left(2 x \\right)}\\, dx = x \\operatorname{asin}{\\left(2 x \\right)} + \\frac{\\sqrt{1 - 4 x^{2}}}{2}$"
      ],
      "text/plain": [
       "Eq(Integral(asin(2*x), x), x*asin(2*x) + sqrt(1 - 4*x**2)/2)"
      ]
     },
     "execution_count": 7,
     "metadata": {},
     "output_type": "execute_result"
    }
   ],
   "source": [
    "import sympy as sp\n",
    "\n",
    "x=sp.symbols('x')\n",
    "a=sp.Integral(sp.asin(2*x),x)\n",
    "sp.Eq(a,a.doit())"
   ]
  },
  {
   "cell_type": "code",
   "execution_count": 8,
   "metadata": {},
   "outputs": [
    {
     "data": {
      "text/latex": [
       "$\\displaystyle \\int \\sinh{\\left(x \\right)}\\, dx = \\cosh{\\left(x \\right)}$"
      ],
      "text/plain": [
       "Eq(Integral(sinh(x), x), cosh(x))"
      ]
     },
     "execution_count": 8,
     "metadata": {},
     "output_type": "execute_result"
    }
   ],
   "source": [
    "b=sp.sinh(x)\n",
    "c=sp.Integral(b,x)\n",
    "sp.Eq(c,c.doit())"
   ]
  },
  {
   "cell_type": "code",
   "execution_count": 9,
   "metadata": {},
   "outputs": [
    {
     "data": {
      "text/latex": [
       "$\\displaystyle e^{- x} \\sinh{\\left(x^{2} + 1 \\right)} = 2 x e^{- x} \\cosh{\\left(x^{2} + 1 \\right)} - e^{- x} \\sinh{\\left(x^{2} + 1 \\right)}$"
      ],
      "text/plain": [
       "Eq(exp(-x)*sinh(x**2 + 1), 2*x*exp(-x)*cosh(x**2 + 1) - exp(-x)*sinh(x**2 + 1))"
      ]
     },
     "execution_count": 9,
     "metadata": {},
     "output_type": "execute_result"
    }
   ],
   "source": [
    "a=sp.exp(-x)*sp.sinh(x**2+1)\n",
    "sp.Eq(a,sp.diff(a,x))"
   ]
  },
  {
   "cell_type": "markdown",
   "metadata": {},
   "source": [
    "使った機能をとりあえず以下にメモ(まだ中身はよく理解してない)\n",
    "\n",
    "・[symbol.symbols()メソッド](https://docs.sympy.org/latest/modules/core.html#symbols)  \n",
    "・[Integralクラス ](https://docs.sympy.org/latest/modules/integrals/integrals.html#sympy.integrals.integrals.Integral)  \n",
    "・[Integral.doit()メソッド](https://docs.sympy.org/latest/modules/core.html#sympy.core.basic.Basic.doit)  \n",
    "・[diff()メソッド ](https://docs.sympy.org/latest/modules/core.html#sympy.core.function.diff)    \n",
    "・[Eq/Equality()クラス](https://docs.sympy.org/latest/modules/core.html#sympy.core.relational.Equality)\n"
   ]
  },
  {
   "cell_type": "markdown",
   "metadata": {},
   "source": [
    "###　微分方程式\n",
    "\n",
    "微分方程式解いてみる"
   ]
  },
  {
   "cell_type": "code",
   "execution_count": 10,
   "metadata": {},
   "outputs": [
    {
     "data": {
      "text/latex": [
       "$\\displaystyle f{\\left(x \\right)} - 2 \\frac{d}{d x} f{\\left(x \\right)} + \\frac{d^{2}}{d x^{2}} f{\\left(x \\right)} = \\sin{\\left(x \\right)}$"
      ],
      "text/plain": [
       "Eq(f(x) - 2*Derivative(f(x), x) + Derivative(f(x), (x, 2)), sin(x))"
      ]
     },
     "execution_count": 10,
     "metadata": {},
     "output_type": "execute_result"
    }
   ],
   "source": [
    "f = sp.symbols('f', cls=sp.Function)\n",
    "diffeq = sp.Eq(f(x).diff(x, x) - 2*f(x).diff(x) + f(x), sp.sin(x))\n",
    "diffeq"
   ]
  },
  {
   "cell_type": "code",
   "execution_count": 11,
   "metadata": {},
   "outputs": [
    {
     "data": {
      "text/latex": [
       "$\\displaystyle f{\\left(x \\right)} = \\left(C_{1} + C_{2} x\\right) e^{x} + \\frac{\\cos{\\left(x \\right)}}{2}$"
      ],
      "text/plain": [
       "Eq(f(x), (C1 + C2*x)*exp(x) + cos(x)/2)"
      ]
     },
     "execution_count": 11,
     "metadata": {},
     "output_type": "execute_result"
    }
   ],
   "source": [
    "sp.dsolve(diffeq,f(x))"
   ]
  },
  {
   "cell_type": "markdown",
   "metadata": {},
   "source": [
    "使った機能メモ  \n",
    "\n",
    "[Functionクラス](https://docs.sympy.org/latest/modules/core.html?highlight=function#sympy.core.function.Function)  \n",
    "[dsolve()メソッド](https://docs.sympy.org/latest/modules/solvers/ode.html?highlight=dsolve#sympy.solvers.ode.dsolve)"
   ]
  },
  {
   "cell_type": "markdown",
   "metadata": {},
   "source": [
    "### 因数分解\n",
    "\n",
    "多項式の因数分解\n"
   ]
  },
  {
   "cell_type": "code",
   "execution_count": 12,
   "metadata": {},
   "outputs": [
    {
     "data": {
      "text/latex": [
       "$\\displaystyle x^{3} - x^{2} + x - 1 = \\left(x - 1\\right) \\left(x^{2} + 1\\right)$"
      ],
      "text/plain": [
       "Eq(x**3 - x**2 + x - 1, (x - 1)*(x**2 + 1))"
      ]
     },
     "execution_count": 12,
     "metadata": {},
     "output_type": "execute_result"
    }
   ],
   "source": [
    "poly=x**3 - x**2 + x - 1\n",
    "sp.Eq(poly,sp.factor(poly))"
   ]
  },
  {
   "cell_type": "markdown",
   "metadata": {},
   "source": [
    "使った機能メモ  \n",
    "\n",
    "[Factorメソッド](https://docs.sympy.org/latest/modules/polys/reference.html?highlight=factor#sympy.polys.polytools.factor)"
   ]
  }
 ],
 "metadata": {
  "kernelspec": {
   "display_name": "Python 3",
   "language": "python",
   "name": "python3"
  },
  "language_info": {
   "codemirror_mode": {
    "name": "ipython",
    "version": 3
   },
   "file_extension": ".py",
   "mimetype": "text/x-python",
   "name": "python",
   "nbconvert_exporter": "python",
   "pygments_lexer": "ipython3",
   "version": "3.7.6"
  }
 },
 "nbformat": 4,
 "nbformat_minor": 4
}
