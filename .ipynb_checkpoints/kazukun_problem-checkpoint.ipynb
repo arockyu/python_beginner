{
 "cells": [
  {
   "cell_type": "markdown",
   "metadata": {},
   "source": [
    "## [カズくん問題](https://twitter.com/Kzs_xx_/status/1308253374949646337)の検証コード"
   ]
  },
  {
   "cell_type": "markdown",
   "metadata": {},
   "source": [
    "### カズくんの戦略(アルゴリズム)\n",
    "\n",
    "ひとつ前の値 bf  \n",
    "二つ前の値 bfbf  \n",
    "返り値は最新の値"
   ]
  },
  {
   "cell_type": "code",
   "execution_count": 21,
   "metadata": {},
   "outputs": [],
   "source": [
    "N = 100"
   ]
  },
  {
   "cell_type": "code",
   "execution_count": 22,
   "metadata": {},
   "outputs": [],
   "source": [
    "#Algolithm function(未完成)\n",
    "def algo(bf,bfbf):\n",
    "\n",
    "    if(bf > bfbf):\n",
    "        diff = bf - bfbf\n",
    "    else:\n",
    "        diff = bf + N - bfbf\n",
    "        \n",
    "    delta = (diff - 1)  % (N-1) +1\n",
    "    \n",
    "    ret = (bf + delta - 1) % N + 1\n",
    "\n",
    "    return ret\n"
   ]
  },
  {
   "cell_type": "markdown",
   "metadata": {},
   "source": [
    "### カズくんの挑戦\n",
    "\n",
    "最初の二つの組のペア a,b  \n",
    "返り値はカズくんのいう数字のリスト\n"
   ]
  },
  {
   "cell_type": "code",
   "execution_count": 23,
   "metadata": {},
   "outputs": [],
   "source": [
    "#kau kun function\n",
    "def kazukun_challenge(a,b,print_data = False):\n",
    "    if(a==b or a>N or a < 1 or b>N or b < 1):\n",
    "        print (\"err irreguler a,b value\")\n",
    "        return 0\n",
    "    \n",
    "    before_of_before =min(a,b)\n",
    "    before = max(a,b)\n",
    "    if(print_data):\n",
    "        print(\"1 :\",before_of_before)\n",
    "        print(\"2 :\",before,)\n",
    "        \n",
    "    list=[before_of_before,before]\n",
    "\n",
    "    for i in range(3,N + 1):\n",
    "\n",
    "        #Algolithm    \n",
    "        current = algo(before,before_of_before)\n",
    "\n",
    "        #Output\n",
    "        if(print_data):\n",
    "            print(i,\":\",current,\"(\",before,\",\",before_of_before,\")\")\n",
    "        list+=[current]\n",
    "\n",
    "        #Refresh\n",
    "        before_of_before = before\n",
    "        before = current\n",
    "        \n",
    "\n",
    "    return list;\n"
   ]
  },
  {
   "cell_type": "markdown",
   "metadata": {},
   "source": [
    "### でんごーさんAlgolithm   "
   ]
  },
  {
   "cell_type": "code",
   "execution_count": 24,
   "metadata": {},
   "outputs": [],
   "source": [
    "#でんごーさんAlgolithm   \n",
    "def kazukun_challenge2(a,b,print_data = False):\n",
    "    if(a==b or a>N or a < 1 or b>N or b < 1):\n",
    "        print (\"err func a=b\")\n",
    "        return 0\n",
    "    \n",
    "    kazu=[min(a,b),max(a,b)] \n",
    "    \n",
    "    if(print_data):\n",
    "        print(\"1 :\",kazu[0])\n",
    "        print(\"2 :\",kazu[1],)\n",
    "        \n",
    "    list=[kazu[0],kazu[1]]\n",
    "\n",
    "    for i in range(3,N + 1):\n",
    "        \n",
    "        #next計算\n",
    "        delta = kazu[1] - kazu[0]\n",
    "        next = kazu[1] + delta\n",
    "        \n",
    "        #100を超えたら記憶初期化\n",
    "        if (next > 100):\n",
    "            next += 1\n",
    "            next %= delta\n",
    "            if(next == 0):\n",
    "                next = delta;\n",
    "            \n",
    "            kazu[1] = next -delta\n",
    "            kazu[0] = kazu[1] -delta\n",
    "            \n",
    "        #Output\n",
    "        if(print_data):\n",
    "            print(i,\":\",next,\"(\",kazu[1],\",\",kazu[0],\")\")\n",
    "        list+=[next]\n",
    "\n",
    "        #Refresh\n",
    "        kazu[0] = kazu[1]\n",
    "        kazu[1] = next\n",
    "        \n",
    "\n",
    "    return list;"
   ]
  },
  {
   "cell_type": "markdown",
   "metadata": {},
   "source": [
    "### 特定の初期値ペアに対する検証"
   ]
  },
  {
   "cell_type": "code",
   "execution_count": 25,
   "metadata": {
    "scrolled": false
   },
   "outputs": [
    {
     "name": "stdout",
     "output_type": "stream",
     "text": [
      "1 : 1\n",
      "2 : 94\n",
      "3 : 2 ( -91 , -184 )\n",
      "4 : 95 ( 2 , -91 )\n",
      "5 : 3 ( -90 , -183 )\n",
      "6 : 96 ( 3 , -90 )\n",
      "7 : 4 ( -89 , -182 )\n",
      "8 : 97 ( 4 , -89 )\n",
      "9 : 5 ( -88 , -181 )\n",
      "10 : 98 ( 5 , -88 )\n",
      "11 : 6 ( -87 , -180 )\n",
      "12 : 99 ( 6 , -87 )\n",
      "13 : 7 ( -86 , -179 )\n",
      "14 : 100 ( 7 , -86 )\n",
      "15 : 8 ( -85 , -178 )\n",
      "16 : 9 ( -84 , -177 )\n",
      "17 : 10 ( -83 , -176 )\n",
      "18 : 11 ( -82 , -175 )\n",
      "19 : 12 ( -81 , -174 )\n",
      "20 : 13 ( -80 , -173 )\n",
      "21 : 14 ( -79 , -172 )\n",
      "22 : 15 ( -78 , -171 )\n",
      "23 : 16 ( -77 , -170 )\n",
      "24 : 17 ( -76 , -169 )\n",
      "25 : 18 ( -75 , -168 )\n",
      "26 : 19 ( -74 , -167 )\n",
      "27 : 20 ( -73 , -166 )\n",
      "28 : 21 ( -72 , -165 )\n",
      "29 : 22 ( -71 , -164 )\n",
      "30 : 23 ( -70 , -163 )\n",
      "31 : 24 ( -69 , -162 )\n",
      "32 : 25 ( -68 , -161 )\n",
      "33 : 26 ( -67 , -160 )\n",
      "34 : 27 ( -66 , -159 )\n",
      "35 : 28 ( -65 , -158 )\n",
      "36 : 29 ( -64 , -157 )\n",
      "37 : 30 ( -63 , -156 )\n",
      "38 : 31 ( -62 , -155 )\n",
      "39 : 32 ( -61 , -154 )\n",
      "40 : 33 ( -60 , -153 )\n",
      "41 : 34 ( -59 , -152 )\n",
      "42 : 35 ( -58 , -151 )\n",
      "43 : 36 ( -57 , -150 )\n",
      "44 : 37 ( -56 , -149 )\n",
      "45 : 38 ( -55 , -148 )\n",
      "46 : 39 ( -54 , -147 )\n",
      "47 : 40 ( -53 , -146 )\n",
      "48 : 41 ( -52 , -145 )\n",
      "49 : 42 ( -51 , -144 )\n",
      "50 : 43 ( -50 , -143 )\n",
      "51 : 44 ( -49 , -142 )\n",
      "52 : 45 ( -48 , -141 )\n",
      "53 : 46 ( -47 , -140 )\n",
      "54 : 47 ( -46 , -139 )\n",
      "55 : 48 ( -45 , -138 )\n",
      "56 : 49 ( -44 , -137 )\n",
      "57 : 50 ( -43 , -136 )\n",
      "58 : 51 ( -42 , -135 )\n",
      "59 : 52 ( -41 , -134 )\n",
      "60 : 53 ( -40 , -133 )\n",
      "61 : 54 ( -39 , -132 )\n",
      "62 : 55 ( -38 , -131 )\n",
      "63 : 56 ( -37 , -130 )\n",
      "64 : 57 ( -36 , -129 )\n",
      "65 : 58 ( -35 , -128 )\n",
      "66 : 59 ( -34 , -127 )\n",
      "67 : 60 ( -33 , -126 )\n",
      "68 : 61 ( -32 , -125 )\n",
      "69 : 62 ( -31 , -124 )\n",
      "70 : 63 ( -30 , -123 )\n",
      "71 : 64 ( -29 , -122 )\n",
      "72 : 65 ( -28 , -121 )\n",
      "73 : 66 ( -27 , -120 )\n",
      "74 : 67 ( -26 , -119 )\n",
      "75 : 68 ( -25 , -118 )\n",
      "76 : 69 ( -24 , -117 )\n",
      "77 : 70 ( -23 , -116 )\n",
      "78 : 71 ( -22 , -115 )\n",
      "79 : 72 ( -21 , -114 )\n",
      "80 : 73 ( -20 , -113 )\n",
      "81 : 74 ( -19 , -112 )\n",
      "82 : 75 ( -18 , -111 )\n",
      "83 : 76 ( -17 , -110 )\n",
      "84 : 77 ( -16 , -109 )\n",
      "85 : 78 ( -15 , -108 )\n",
      "86 : 79 ( -14 , -107 )\n",
      "87 : 80 ( -13 , -106 )\n",
      "88 : 81 ( -12 , -105 )\n",
      "89 : 82 ( -11 , -104 )\n",
      "90 : 83 ( -10 , -103 )\n",
      "91 : 84 ( -9 , -102 )\n",
      "92 : 85 ( -8 , -101 )\n",
      "93 : 86 ( -7 , -100 )\n",
      "94 : 87 ( -6 , -99 )\n",
      "95 : 88 ( -5 , -98 )\n",
      "96 : 89 ( -4 , -97 )\n",
      "97 : 90 ( -3 , -96 )\n",
      "98 : 91 ( -2 , -95 )\n",
      "99 : 92 ( -1 , -94 )\n",
      "100 : 93 ( 0 , -93 )\n"
     ]
    }
   ],
   "source": [
    "#check single case\n",
    "\n",
    "a = 1\n",
    "b = 94\n",
    "\n",
    "# check = kazukun_challenge(a,b,True)  \n",
    "check = kazukun_challenge2(a,b,True) #でんごーさんAlgolithm  \n",
    "\n",
    "for l in range(1,N + 1):\n",
    "     if ((l in check) == False):\n",
    "            print (\"missing \",l)"
   ]
  },
  {
   "cell_type": "markdown",
   "metadata": {},
   "source": [
    "### 全初期値ペアの総当たり検証"
   ]
  },
  {
   "cell_type": "code",
   "execution_count": 26,
   "metadata": {
    "scrolled": false
   },
   "outputs": [
    {
     "name": "stdout",
     "output_type": "stream",
     "text": [
      "good\n"
     ]
    }
   ],
   "source": [
    "#check all cases\n",
    "\n",
    "flag_all = False\n",
    "for j in range(1,N): \n",
    "    #print(j)\n",
    "    for k in range(j+1,N + 1):\n",
    "        #out = kazukun_challenge(j,k)\n",
    "        out = kazukun_challenge2(j,k) #でんごーさんAlgolithm  \n",
    "        flag_single=flag=False\n",
    "        for l in range(1,N + 1):\n",
    "            if ((l in out) == False):\n",
    "                flag_single=True\n",
    "                #print (\"case\",j,k,\"missing \",l)\n",
    "        if (flag_single):\n",
    "            flag_all = True\n",
    "            print(\"bad case:\",j,k)\n",
    "        #else:\n",
    "        #    print(\"good case\",j,k)    \n",
    "if (flag_all) :\n",
    "    print (\"bad\")\n",
    "else:\n",
    "    print (\"good\")\n"
   ]
  },
  {
   "cell_type": "markdown",
   "metadata": {},
   "source": [
    "### 定式化\n",
    "\n",
    "N = 100\n",
    "\n",
    "A={1,2,3....,N-3,N-2,N-1}  \n",
    "\n",
    "f:A → A が以下条件の時できるのではないか？？？\n",
    "\n",
    "* fは全射\n",
    "* 任意の a ∈ A　で　f(a)≠a,$f^{(99)}(a)=a$\n",
    "* 任意の n,d ∈ A で$g(n)=\\Sigma_{m=1}^{n}{f^n(d)\\,mod\\,N}$がAへの全射(単射)\n",
    "\n",
    "\n",
    "新しい数字 = (ひとつ前の数字　＋　f(記憶した二つの数字の増分)  - 1) mod N + 1\n",
    "\n",
    "もう少し条件を緩和しできるような気がする、、、"
   ]
  },
  {
   "cell_type": "markdown",
   "metadata": {},
   "source": [
    "### Nを少ない数でやってみる"
   ]
  },
  {
   "cell_type": "markdown",
   "metadata": {},
   "source": [
    "### 関数f探索ルーチン（未完成）\n"
   ]
  },
  {
   "cell_type": "code",
   "execution_count": 27,
   "metadata": {},
   "outputs": [
    {
     "data": {
      "text/plain": [
       "False"
      ]
     },
     "execution_count": 27,
     "metadata": {},
     "output_type": "execute_result"
    }
   ],
   "source": [
    "N=10\n",
    "\n",
    "def serch_func(l,f,g,depth=1,f_depth=0):\n",
    "    \n",
    "    #check f(depth)\n",
    "    \n",
    "    for i in range(len(l)) :\n",
    "        m = l[i]\n",
    "        if(m != depth):\n",
    "            g_dep=(f_depth+l[i])%N\n",
    "            #print(\"depth,f[depth],g[depth]\",depth,m,g_dep)\n",
    "            if (g_dep!=0)&((g_dep in g.values()) == False):\n",
    "                f[depth] = m\n",
    "                g[depth]  =g_dep\n",
    "                del l[i]\n",
    "                if((depth == N-1)):\n",
    "                    if(g[1] == g_dep):\n",
    "                        return True                    \n",
    "                else :\n",
    "                    if(serch_func(l,f,g,depth+1,g_dep)):\n",
    "                        return True\n",
    "                f.pop(depth)\n",
    "                \n",
    "                g.pop(depth)\n",
    "                l+=[m]\n",
    "                l.sort()\n",
    "    \n",
    "    return False;\n",
    "\n",
    "\n",
    "lt=[]\n",
    "for l in range(1,N):\n",
    "    lt += [l]\n",
    "dic_f={}\n",
    "dic_g={}\n",
    "\n",
    "serch_func(lt,dic_f,dic_g,f_depth=0)"
   ]
  },
  {
   "cell_type": "markdown",
   "metadata": {},
   "source": [
    "うーーん、コード複雑で間違ってるかもしれないけどうまくいかない(解がでてこない)"
   ]
  },
  {
   "cell_type": "markdown",
   "metadata": {},
   "source": [
    "### 別のアプローチ(未完成)\n",
    "\n",
    "上のコード書いてて自分でもわからなくなったのですっきりとA→Aの関数を網羅的に調べる方法をとることにする。"
   ]
  },
  {
   "cell_type": "code",
   "execution_count": 29,
   "metadata": {},
   "outputs": [
    {
     "name": "stdout",
     "output_type": "stream",
     "text": [
      "No f found\n"
     ]
    }
   ],
   "source": [
    "N=5\n",
    "\n",
    "#集合A\n",
    "A_list=[]\n",
    "for i in range(1,N+1):\n",
    "    A_list+=[i]\n",
    "\n",
    "A=set(A_list)\n",
    "\n",
    "#初期化\n",
    "\n",
    "f_dic = dict({}) # A→Aの関数(辞書型)\n",
    "count =[]  # 関数を数えるカウンタ N-1進数 N桁  \n",
    "value = [] #　対応する入力側Aの要素の取りうる値N-1個のリスト\n",
    "for x in A_list:\n",
    "    count += [0];\n",
    "    temp = list(A)\n",
    "    f_dic[x] = temp[0]\n",
    "    value += [temp]\n",
    "\n",
    "    \n",
    "#Algolithm function(カズ君の戦略)\n",
    "def algo(bf,bfbf):\n",
    "    if(bf>bfbf):\n",
    "        diff = bf - bfbf\n",
    "    else:\n",
    "        diff = bf +100 - bfbf \n",
    "    return (bf + f_dic[diff] - 1)%100 +1\n",
    "\n",
    "#kau kun function(カズ君の挑戦)\n",
    "def kazukun_challenge(a,b,print_data = False):\n",
    "    if(a==b or a>N or a < 1 or b>N or b < 1):\n",
    "        print (\"err func a=b\")\n",
    "        return 0\n",
    "    \n",
    "    before_of_before =min(a,b)\n",
    "    before = max(a,b)\n",
    "    if(print_data):\n",
    "        print(\"1 :\",before_of_before)\n",
    "        print(\"2 :\",before,)\n",
    "        \n",
    "    list=[before_of_before,before]\n",
    "\n",
    "    for i in range(3,N + 1):\n",
    "\n",
    "        #Algolithm    \n",
    "        current = algo(before,before_of_before)\n",
    "\n",
    "        #Output\n",
    "        if(print_data):\n",
    "            print(i,\":\",current,\"(\",before,\",\",before_of_before,\")\")\n",
    "        list+=[current]\n",
    "\n",
    "        #Refresh\n",
    "        before_of_before = before\n",
    "        before = current\n",
    "        \n",
    "\n",
    "    return list;\n",
    "\n",
    "    \n",
    "    \n",
    "#check all cases\n",
    "def check_func():\n",
    "    for j in range(1,N): \n",
    "        #print(j)\n",
    "        for k in range(j+1,N + 1):\n",
    "            out = kazukun_challenge(j,k) \n",
    "            flag_single=flag=False\n",
    "            for l in range(1,N + 1):\n",
    "                if ((l in out) == False):\n",
    "                    flag_single=True\n",
    "                    #print (\"case\",j,k,\"missing \",l)\n",
    "                    return False \n",
    "    return True\n",
    "\n",
    "\n",
    "#print(\"connt=\",count) \n",
    "#print(\"f_dic =\",f_dic)   \n",
    "    \n",
    "flag = False\n",
    "while(flag==False):\n",
    "    if(check_func()):\n",
    "        flag = True\n",
    "        break;\n",
    "    flag_end=False\n",
    "    for i in range(N):\n",
    "        count[i] += 1\n",
    "        if(count[i] == N):##桁上がり\n",
    "            if(i == N-1):\n",
    "                flag_end=True\n",
    "                break\n",
    "            count[i] = 0\n",
    "            f_dic[A_list[i]]=value[i][count[i]]\n",
    "            #if(i == M - 2):\n",
    "            #    print(count) #進捗の確認\n",
    "        else :\n",
    "            f_dic[A_list[i]]=value[i][count[i]]\n",
    "            break\n",
    "    if(flag_end):\n",
    "        break;\n",
    "    #print(\"connt =\",count) \n",
    "    #print(\"f_dic =\",f_dic)\n",
    "if(flag==True):\n",
    "    print(\"good\")\n",
    "    print(f_dic)\n",
    "else :\n",
    "    print(\"No f found\") \n",
    "    "
   ]
  },
  {
   "cell_type": "code",
   "execution_count": null,
   "metadata": {},
   "outputs": [],
   "source": [
    "f_dic"
   ]
  },
  {
   "cell_type": "code",
   "execution_count": null,
   "metadata": {},
   "outputs": [],
   "source": [
    "A_list"
   ]
  },
  {
   "cell_type": "code",
   "execution_count": null,
   "metadata": {},
   "outputs": [],
   "source": [
    "value"
   ]
  },
  {
   "cell_type": "code",
   "execution_count": null,
   "metadata": {},
   "outputs": [],
   "source": [
    "count"
   ]
  },
  {
   "cell_type": "markdown",
   "metadata": {},
   "source": [
    "N=8くらいまでやっても解がない、、自明といえるはずのN=3ですら、、答えが出ないってアプローチ間違ってるかも、、"
   ]
  },
  {
   "cell_type": "markdown",
   "metadata": {},
   "source": [
    "### もっと一般化\n",
    "例えばN=5なら  \n",
    "\n",
    "A={1,2,3,4,5}として\n",
    "a,b ∈ A , a₋≠b\n",
    "対(a,b)の集合BからAへの関数\n",
    "\n",
    "f:B→Aを考えると  \n",
    "Bの要素は5*4=20組なのでfは \n",
    "20個の集合 → 5個の集合の関数  \n",
    "ただしf(a,b)₋≠a,f(a,b)₋≠bなのでa>bの条件を課し    \n",
    "(a,b)の組み合わせ20個から各々の(a,b)に対してa,bを除くAの要素3個への関数とも言える、？？\n",
    "\n",
    "網羅的に関数をしらべるには3個の値を20個の対(a,b)に割り当てる最大$3^{20}$通りの関数をしらべればいい \n"
   ]
  },
  {
   "cell_type": "markdown",
   "metadata": {},
   "source": [
    "### 順序対からAへの関数の網羅的探索"
   ]
  },
  {
   "cell_type": "code",
   "execution_count": 32,
   "metadata": {},
   "outputs": [
    {
     "name": "stdout",
     "output_type": "stream",
     "text": [
      "[0, 0, 0, 0, 0, 0, 0, 0, 0, 0, 0, 0]\n",
      "[0, 0, 0, 0, 0, 0, 0, 0, 1, 0, 0, 0]\n",
      "[0, 0, 0, 0, 0, 0, 0, 0, 0, 1, 0, 0]\n",
      "[0, 0, 0, 0, 0, 0, 0, 0, 1, 1, 0, 0]\n",
      "good\n",
      "{(1, 2): 3, (1, 3): 2, (1, 4): 2, (2, 1): 3, (2, 3): 4, (2, 4): 3, (3, 1): 2, (3, 2): 4, (3, 4): 1, (4, 1): 2, (4, 2): 3, (4, 3): 1}\n"
     ]
    }
   ],
   "source": [
    "N=4\n",
    "\n",
    "#集合A,B定義\n",
    "A_list=[]\n",
    "for i in range(1,N+1):\n",
    "    A_list+=[i]\n",
    "    \n",
    "B_list=[]\n",
    "for i in range(1,N+1):\n",
    "    for j in range(1,N+1):\n",
    "        if(i != j):\n",
    "            B_list+=[(i,j)]\n",
    "            \n",
    "A=set(A_list)\n",
    "B=set(B_list)\n",
    "\n",
    "M=len(B)\n",
    "\n",
    "#初期化\n",
    "f_dic = dict({}) # B→Aの関数(辞書型)\n",
    "count =[]  # 関数を数えるカウンタ N-2進数 N*(N-1)桁 で各桁が各Bの要素の対応する要素の番号(valueに渡す) \n",
    "value = [] #　対応するBの要素の取りうる値N-2個のリスト\n",
    "for x in B_list:\n",
    "    count += [0];\n",
    "    temp = list((A-{x[0],x[1]}))\n",
    "    f_dic[x] = temp[0]\n",
    "    value +=[temp]\n",
    "\n",
    "    \n",
    "#Algolithm function(カズ君の戦略)\n",
    "def algo(bf,bfbf):\n",
    "#     if(bf>bfbf):\n",
    "#         return f_dic[(bfbf,bf)]\n",
    "#     else:\n",
    "#         return f_dic[(bf,bfbf)]\n",
    "    return f_dic[(bfbf,bf)]\n",
    "\n",
    "#kau kun function(カズ君の挑戦)\n",
    "def kazukun_challenge(a,b,print_data = False):\n",
    "    if(a==b or a>N or a < 1 or b>N or b < 1):\n",
    "        print (\"err func a=b\")\n",
    "        return 0\n",
    "    \n",
    "    before_of_before =min(a,b)\n",
    "    before = max(a,b)\n",
    "    if(print_data):\n",
    "        print(\"1 :\",before_of_before)\n",
    "        print(\"2 :\",before,)\n",
    "        \n",
    "    list=[before_of_before,before]\n",
    "\n",
    "    for i in range(3,N + 1):\n",
    "\n",
    "        #Algolithm    \n",
    "        current = algo(before,before_of_before)\n",
    "\n",
    "        #Output\n",
    "        if(print_data):\n",
    "            print(i,\":\",current,\"(\",before,\",\",before_of_before,\")\")\n",
    "        list+=[current]\n",
    "\n",
    "        #Refresh\n",
    "        before_of_before = before\n",
    "        before = current\n",
    "        \n",
    "\n",
    "    return list;\n",
    "\n",
    "    \n",
    "    \n",
    "#check all cases\n",
    "def check_func():\n",
    "    for j in range(1,N): \n",
    "        #print(j)\n",
    "        for k in range(j+1,N + 1):\n",
    "            out = kazukun_challenge(j,k) \n",
    "            flag_single=flag=False\n",
    "            for l in range(1,N + 1):\n",
    "                if ((l in out) == False):\n",
    "                    flag_single=True\n",
    "                    #print (\"case\",j,k,\"missing \",l)\n",
    "                    return False \n",
    "    return True\n",
    "   \n",
    "\n",
    "    \n",
    "flag = False\n",
    "while(flag==False):\n",
    "    if(check_func()):\n",
    "        flag = True\n",
    "        break;\n",
    "    flag_end=False\n",
    "    for i in range(M):\n",
    "        count[i] += 1\n",
    "        if(count[i] == N-2):##桁上がり\n",
    "            if(i == M-1):\n",
    "                flag_end=True\n",
    "                break\n",
    "            count[i] = 0\n",
    "            f_dic[B_list[i]]=value[i][count[i]]\n",
    "            if(i == M - 5):\n",
    "                print(count) #進捗の確認\n",
    "        else :\n",
    "            f_dic[B_list[i]]=value[i][count[i]]\n",
    "            break\n",
    "    if(flag_end):\n",
    "        break;\n",
    "        \n",
    "if(flag==True):\n",
    "    print(\"good\")\n",
    "    print(f_dic)\n",
    "else :\n",
    "    print(\"No f found\")"
   ]
  },
  {
   "cell_type": "code",
   "execution_count": 65,
   "metadata": {},
   "outputs": [
    {
     "data": {
      "text/plain": [
       "{(1, 2): 3,\n",
       " (1, 3): 2,\n",
       " (1, 4): 2,\n",
       " (2, 1): 3,\n",
       " (2, 3): 4,\n",
       " (2, 4): 3,\n",
       " (3, 1): 2,\n",
       " (3, 2): 4,\n",
       " (3, 4): 1,\n",
       " (4, 1): 2,\n",
       " (4, 2): 3,\n",
       " (4, 3): 1}"
      ]
     },
     "execution_count": 65,
     "metadata": {},
     "output_type": "execute_result"
    }
   ],
   "source": [
    "f_dic"
   ]
  },
  {
   "cell_type": "markdown",
   "metadata": {},
   "source": [
    "私のPCでは夕食とお風呂の時間位計算が必要でしたが以下が\n",
    "\n",
    "(前々回、前回)　→　今回\n",
    "\n",
    "で解ける組み合わせです。(唯一の解ではない)"
   ]
  },
  {
   "cell_type": "code",
   "execution_count": null,
   "metadata": {},
   "outputs": [],
   "source": [
    "f_dic"
   ]
  },
  {
   "cell_type": "code",
   "execution_count": null,
   "metadata": {},
   "outputs": [],
   "source": [
    "M"
   ]
  },
  {
   "cell_type": "code",
   "execution_count": null,
   "metadata": {},
   "outputs": [],
   "source": [
    "dir(set)"
   ]
  },
  {
   "cell_type": "code",
   "execution_count": 62,
   "metadata": {},
   "outputs": [
    {
     "name": "stdout",
     "output_type": "stream",
     "text": [
      "[0, 0, 0, 0, 0, 0, 0, 0, 0, 0, 0, 0]\n",
      "[0, 0, 0, 0, 0, 0, 1, 0, 0, 0, 0, 0]\n",
      "[0, 0, 0, 0, 0, 0, 0, 1, 0, 0, 0, 0]\n",
      "[0, 0, 0, 0, 0, 0, 1, 1, 0, 0, 0, 0]\n",
      "[0, 0, 0, 0, 0, 0, 0, 0, 1, 0, 0, 0]\n",
      "[0, 0, 0, 0, 0, 0, 1, 0, 1, 0, 0, 0]\n",
      "[0, 0, 0, 0, 0, 0, 0, 1, 1, 0, 0, 0]\n",
      "[0, 0, 0, 0, 0, 0, 1, 1, 1, 0, 0, 0]\n",
      "[0, 0, 0, 0, 0, 0, 0, 0, 0, 1, 0, 0]\n",
      "[0, 0, 0, 0, 0, 0, 1, 0, 0, 1, 0, 0]\n",
      "[0, 0, 0, 0, 0, 0, 0, 1, 0, 1, 0, 0]\n",
      "[0, 0, 0, 0, 0, 0, 1, 1, 0, 1, 0, 0]\n",
      "[0, 0, 0, 0, 0, 0, 0, 0, 1, 1, 0, 0]\n",
      "[0, 0, 0, 0, 0, 0, 1, 0, 1, 1, 0, 0]\n",
      "[0, 0, 0, 0, 0, 0, 0, 1, 1, 1, 0, 0]\n",
      "[0, 0, 0, 0, 0, 0, 1, 1, 1, 1, 0, 0]\n",
      "[0, 0, 0, 0, 0, 0, 0, 0, 0, 0, 1, 0]\n",
      "[0, 0, 0, 0, 0, 0, 1, 0, 0, 0, 1, 0]\n",
      "good\n",
      "{(1, 2): 3, (1, 3): 2, (1, 4): 2, (2, 1): 3, (2, 3): 4, (2, 4): 3, (3, 1): 2, (3, 2): 4, (3, 4): 1, (4, 1): 2, (4, 2): 3, (4, 3): 1}\n"
     ]
    }
   ],
   "source": [
    "N=4\n",
    "\n",
    "#集合A,B定義\n",
    "A_list=[]\n",
    "for i in range(1,N+1):\n",
    "    A_list+=[i]\n",
    "    \n",
    "B_list=[]\n",
    "for i in range(1,N+1):\n",
    "    for j in range(1,N+1):\n",
    "        if(i != j):\n",
    "            B_list+=[(i,j)]\n",
    "            \n",
    "A=set(A_list)\n",
    "B=set(B_list)\n",
    "\n",
    "M=len(B)\n",
    "\n",
    "#初期化\n",
    "f_list= []\n",
    "f_dic = {} # B→Aの関数(辞書型)\n",
    "count =[]  # 関数を数えるカウンタ N-2進数 N*(N-1)桁 で各桁が各Bの要素の対応する要素の番号(valueに渡す) \n",
    "value = [] #　対応するBの要素の取りうる値N-2個のリスト\n",
    "for x in B_list:\n",
    "    count += [0];\n",
    "    temp = list((A-{x[0],x[1]}))\n",
    "    f_dic[x] = temp[0]\n",
    "    value +=[temp]\n",
    "\n",
    "    \n",
    "#Algolithm function(カズ君の戦略)\n",
    "def algo(bf,bfbf):\n",
    "\n",
    "    return f_dic[(bfbf,bf)]\n",
    "\n",
    "#kau kun function(カズ君の挑戦)\n",
    "def kazukun_challenge(a,b,print_data = False):\n",
    "    if(a==b or a>N or a < 1 or b>N or b < 1):\n",
    "        print (\"err func a=b\")\n",
    "        return 0\n",
    "    \n",
    "    before_of_before =min(a,b)\n",
    "    before = max(a,b)\n",
    "    if(print_data):\n",
    "        print(\"1 :\",before_of_before)\n",
    "        print(\"2 :\",before,)\n",
    "        \n",
    "    list=[before_of_before,before]\n",
    "\n",
    "    for i in range(3,N + 1):\n",
    "\n",
    "        #Algolithm    \n",
    "        current = algo(before,before_of_before)\n",
    "\n",
    "        #Output\n",
    "        if(print_data):\n",
    "            print(i,\":\",current,\"(\",before,\",\",before_of_before,\")\")\n",
    "        list+=[current]\n",
    "\n",
    "        #Refresh\n",
    "        before_of_before = before\n",
    "        before = current\n",
    "        \n",
    "\n",
    "    return list;\n",
    "\n",
    "    \n",
    "    \n",
    "#check all cases\n",
    "def check_func():\n",
    "    for j in range(1,N): \n",
    "        #print(j)\n",
    "        for k in range(j+1,N + 1):\n",
    "            out = kazukun_challenge(j,k) \n",
    "            flag_single=flag=False\n",
    "            for l in range(1,N + 1):\n",
    "                if ((l in out) == False):\n",
    "                    flag_single=True\n",
    "                    #print (\"case\",j,k,\"missing \",l)\n",
    "                    return False \n",
    "    return True\n",
    "   \n",
    "\n",
    "    \n",
    "flag = False\n",
    "while(True):\n",
    "    if(check_func()):\n",
    "        flag = True\n",
    "        f_list+=[f_dic]\n",
    "        break;\n",
    "    flag_end=False\n",
    "    for i in range(M):\n",
    "        count[i] += 1\n",
    "        if(count[i] == N-2):##桁上がり\n",
    "            if(i == M-1):\n",
    "                flag_end=True\n",
    "                break\n",
    "            count[i] = 0\n",
    "            f_dic[B_list[i]]=value[i][count[i]]\n",
    "            if(i == M - 7):\n",
    "                print(count) #進捗の確認\n",
    "        else :\n",
    "            f_dic[B_list[i]]=value[i][count[i]]\n",
    "            break\n",
    "    if(flag_end):\n",
    "        break;\n",
    "        \n",
    "if(flag==True):\n",
    "    print(\"good\")\n",
    "    print(f_dic)\n",
    "else :\n",
    "    print(\"No f found\")"
   ]
  },
  {
   "cell_type": "code",
   "execution_count": 63,
   "metadata": {},
   "outputs": [
    {
     "data": {
      "text/plain": [
       "1"
      ]
     },
     "execution_count": 63,
     "metadata": {},
     "output_type": "execute_result"
    }
   ],
   "source": [
    "len(f_list)"
   ]
  },
  {
   "cell_type": "code",
   "execution_count": 64,
   "metadata": {},
   "outputs": [
    {
     "data": {
      "text/plain": [
       "{(1, 2): 3,\n",
       " (1, 3): 2,\n",
       " (1, 4): 2,\n",
       " (2, 1): 3,\n",
       " (2, 3): 4,\n",
       " (2, 4): 3,\n",
       " (3, 1): 2,\n",
       " (3, 2): 4,\n",
       " (3, 4): 1,\n",
       " (4, 1): 2,\n",
       " (4, 2): 3,\n",
       " (4, 3): 1}"
      ]
     },
     "execution_count": 64,
     "metadata": {},
     "output_type": "execute_result"
    }
   ],
   "source": [
    "f_list[0]"
   ]
  },
  {
   "cell_type": "code",
   "execution_count": 55,
   "metadata": {},
   "outputs": [
    {
     "data": {
      "text/plain": [
       "{(1, 2): 3,\n",
       " (1, 3): 2,\n",
       " (1, 4): 2,\n",
       " (1, 5): 2,\n",
       " (2, 1): 3,\n",
       " (2, 3): 1,\n",
       " (2, 4): 1,\n",
       " (2, 5): 1,\n",
       " (3, 1): 2,\n",
       " (3, 2): 1,\n",
       " (3, 4): 1,\n",
       " (3, 5): 1,\n",
       " (4, 1): 2,\n",
       " (4, 2): 1,\n",
       " (4, 3): 1,\n",
       " (4, 5): 1,\n",
       " (5, 1): 2,\n",
       " (5, 2): 1,\n",
       " (5, 3): 1,\n",
       " (5, 4): 3}"
      ]
     },
     "execution_count": 55,
     "metadata": {},
     "output_type": "execute_result"
    }
   ],
   "source": [
    "f_list[87]"
   ]
  },
  {
   "cell_type": "code",
   "execution_count": 54,
   "metadata": {},
   "outputs": [
    {
     "data": {
      "text/plain": [
       "{(1, 2): 3,\n",
       " (1, 3): 2,\n",
       " (1, 4): 2,\n",
       " (1, 5): 2,\n",
       " (2, 1): 3,\n",
       " (2, 3): 1,\n",
       " (2, 4): 1,\n",
       " (2, 5): 1,\n",
       " (3, 1): 2,\n",
       " (3, 2): 1,\n",
       " (3, 4): 1,\n",
       " (3, 5): 1,\n",
       " (4, 1): 2,\n",
       " (4, 2): 1,\n",
       " (4, 3): 1,\n",
       " (4, 5): 1,\n",
       " (5, 1): 2,\n",
       " (5, 2): 1,\n",
       " (5, 3): 1,\n",
       " (5, 4): 3}"
      ]
     },
     "execution_count": 54,
     "metadata": {},
     "output_type": "execute_result"
    }
   ],
   "source": [
    "f_list[86]"
   ]
  },
  {
   "cell_type": "code",
   "execution_count": null,
   "metadata": {},
   "outputs": [],
   "source": [
    "#check single case\n",
    "\n",
    "check = kazukun_challenge(1,3,True)\n",
    "\n",
    "for l in range(1,N + 1):\n",
    "     if ((l in check) == False):\n",
    "            print (\"missing \",l)"
   ]
  },
  {
   "cell_type": "code",
   "execution_count": null,
   "metadata": {},
   "outputs": [],
   "source": [
    "#check all cases\n",
    "\n",
    "flag_all = False\n",
    "for j in range(1,N): \n",
    "    #print(j)\n",
    "    for k in range(j+1,N + 1):\n",
    "        out = kazukun_challenge(j,k)\n",
    "        flag_single=flag=False\n",
    "        for l in range(1,N + 1):\n",
    "            if ((l in out) == False):\n",
    "                flag_single=True\n",
    "                #print (\"case\",j,k,\"missing \",l)\n",
    "        if (flag_single):\n",
    "            flag_all = True\n",
    "            print(\"bad case:\",j,k)\n",
    "        #else:\n",
    "        #    print(\"good case\",j,k)    \n",
    "if (flag_all) :\n",
    "    print (\"bad\")\n",
    "else:\n",
    "    print (\"good\")"
   ]
  },
  {
   "cell_type": "code",
   "execution_count": null,
   "metadata": {
    "scrolled": false
   },
   "outputs": [],
   "source": [
    "dir(dic)"
   ]
  },
  {
   "cell_type": "code",
   "execution_count": null,
   "metadata": {},
   "outputs": [],
   "source": [
    "dic=set({})"
   ]
  },
  {
   "cell_type": "code",
   "execution_count": null,
   "metadata": {},
   "outputs": [],
   "source": [
    "type(dic)"
   ]
  },
  {
   "cell_type": "code",
   "execution_count": null,
   "metadata": {},
   "outputs": [],
   "source": []
  }
 ],
 "metadata": {
  "kernelspec": {
   "display_name": "Python 3",
   "language": "python",
   "name": "python3"
  },
  "language_info": {
   "codemirror_mode": {
    "name": "ipython",
    "version": 3
   },
   "file_extension": ".py",
   "mimetype": "text/x-python",
   "name": "python",
   "nbconvert_exporter": "python",
   "pygments_lexer": "ipython3",
   "version": "3.7.6"
  }
 },
 "nbformat": 4,
 "nbformat_minor": 4
}
