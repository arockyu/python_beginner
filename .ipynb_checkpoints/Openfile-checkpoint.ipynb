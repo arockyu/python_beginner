{
 "cells": [
  {
   "cell_type": "code",
   "execution_count": 1,
   "metadata": {},
   "outputs": [
    {
     "name": "stdout",
     "output_type": "stream",
     "text": [
      "japan,1,2,3\n",
      "usa,4,5,6\n",
      "uk,7.8.9\n",
      "china,10,11,12\n"
     ]
    }
   ],
   "source": [
    "f=open(\"sample.csv\",\"r\")\n",
    "s=f.read()\n",
    "f.close\n",
    "print(s)"
   ]
  },
  {
   "cell_type": "code",
   "execution_count": 2,
   "metadata": {},
   "outputs": [
    {
     "data": {
      "text/plain": [
       "'japan,1,2,3\\nusa,4,5,6\\nuk,7.8.9\\nchina,10,11,12'"
      ]
     },
     "execution_count": 2,
     "metadata": {},
     "output_type": "execute_result"
    }
   ],
   "source": [
    "s"
   ]
  },
  {
   "cell_type": "code",
   "execution_count": 3,
   "metadata": {},
   "outputs": [
    {
     "data": {
      "text/plain": [
       "['japan,1,2,3\\n', 'usa,4,5,6\\n', 'uk,7.8.9\\n', 'china,10,11,12']"
      ]
     },
     "execution_count": 3,
     "metadata": {},
     "output_type": "execute_result"
    }
   ],
   "source": [
    "f=open(\"sample.csv\",\"r\")\n",
    "s=f.readlines()\n",
    "f.close\n",
    "\n",
    "s"
   ]
  },
  {
   "cell_type": "code",
   "execution_count": 4,
   "metadata": {},
   "outputs": [
    {
     "name": "stdout",
     "output_type": "stream",
     "text": [
      "japan,1,2,3\n",
      "usa,4,5,6\n",
      "uk,7.8.9\n",
      "china,10,11,12"
     ]
    }
   ],
   "source": [
    "for str in s:\n",
    "    print(str,end=\"\")"
   ]
  },
  {
   "cell_type": "code",
   "execution_count": null,
   "metadata": {},
   "outputs": [],
   "source": []
  }
 ],
 "metadata": {
  "kernelspec": {
   "display_name": "Python 3",
   "language": "python",
   "name": "python3"
  },
  "language_info": {
   "codemirror_mode": {
    "name": "ipython",
    "version": 3
   },
   "file_extension": ".py",
   "mimetype": "text/x-python",
   "name": "python",
   "nbconvert_exporter": "python",
   "pygments_lexer": "ipython3",
   "version": "3.7.6"
  }
 },
 "nbformat": 4,
 "nbformat_minor": 4
}
