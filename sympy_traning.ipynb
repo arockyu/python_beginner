{
 "cells": [
  {
   "cell_type": "markdown",
   "metadata": {},
   "source": [
    "# SymPy試してみる\n",
    "\n",
    "[SymPy](https://docs.sympy.org/latest/index.html)ライブラリを試してみる。  \n",
    "\n",
    "まずは[tutorial](https://docs.sympy.org/latest/tutorial/intro.html)を参考にして、、、"
   ]
  },
  {
   "cell_type": "markdown",
   "metadata": {},
   "source": [
    "### 微分積分\n",
    "\n",
    "微分積分してみる。\n"
   ]
  },
  {
   "cell_type": "code",
   "execution_count": 1,
   "metadata": {},
   "outputs": [],
   "source": [
    "import sympy as sp\n",
    "\n",
    "x=sp.symbols('x')\n",
    "y1=sp.sin(x)\n",
    "y2=sp.Integral(y1,x)\n",
    "y3=sp.Integral(y1,(x, 0, 2*sp.pi))\n"
   ]
  },
  {
   "cell_type": "markdown",
   "metadata": {},
   "source": [
    "不定積分"
   ]
  },
  {
   "cell_type": "code",
   "execution_count": 2,
   "metadata": {},
   "outputs": [
    {
     "data": {
      "text/latex": [
       "$\\displaystyle \\int \\sin{\\left(x \\right)}\\, dx = - \\cos{\\left(x \\right)}$"
      ],
      "text/plain": [
       "Eq(Integral(sin(x), x), -cos(x))"
      ]
     },
     "execution_count": 2,
     "metadata": {},
     "output_type": "execute_result"
    }
   ],
   "source": [
    "eq1=sp.Eq(y2,y2.doit())\n",
    "eq1"
   ]
  },
  {
   "cell_type": "markdown",
   "metadata": {},
   "source": [
    "定積分"
   ]
  },
  {
   "cell_type": "code",
   "execution_count": 3,
   "metadata": {},
   "outputs": [
    {
     "data": {
      "text/latex": [
       "$\\displaystyle \\int\\limits_{0}^{2 \\pi} \\sin{\\left(x \\right)}\\, dx = 0$"
      ],
      "text/plain": [
       "Eq(Integral(sin(x), (x, 0, 2*pi)), 0)"
      ]
     },
     "execution_count": 3,
     "metadata": {},
     "output_type": "execute_result"
    }
   ],
   "source": [
    "eq2=sp.Eq(y3,y3.doit())\n",
    "eq2"
   ]
  },
  {
   "cell_type": "markdown",
   "metadata": {},
   "source": [
    "プロット"
   ]
  },
  {
   "cell_type": "code",
   "execution_count": 4,
   "metadata": {},
   "outputs": [
    {
     "data": {
      "image/png": "[encoded data removed]",
      "text/plain": [
       "<Figure size 432x288 with 1 Axes>"
      ]
     },
     "metadata": {
      "needs_background": "light"
     },
     "output_type": "display_data"
    },
    {
     "data": {
      "text/plain": [
       "<sympy.plotting.plot.Plot at 0xb1edbc1888>"
      ]
     },
     "execution_count": 4,
     "metadata": {},
     "output_type": "execute_result"
    }
   ],
   "source": [
    "sp.plot(y1,y2.doit(),(x,0,2*sp.pi),legend = True)"
   ]
  },
  {
   "cell_type": "markdown",
   "metadata": {},
   "source": [
    "ハイパボリック"
   ]
  },
  {
   "cell_type": "code",
   "execution_count": 5,
   "metadata": {},
   "outputs": [
    {
     "data": {
      "text/latex": [
       "$\\displaystyle \\int \\sinh{\\left(x \\right)}\\, dx = \\cosh{\\left(x \\right)}$"
      ],
      "text/plain": [
       "Eq(Integral(sinh(x), x), cosh(x))"
      ]
     },
     "execution_count": 5,
     "metadata": {},
     "output_type": "execute_result"
    }
   ],
   "source": [
    "b=sp.sinh(x)\n",
    "c=sp.Integral(b,x)\n",
    "sp.Eq(c,c.doit())"
   ]
  },
  {
   "cell_type": "markdown",
   "metadata": {},
   "source": [
    "微分\n",
    "\n",
    "$(e^{-x}\\sinh{(x^2+1)})'=$　の形で出力する方法がまだわからいない"
   ]
  },
  {
   "cell_type": "code",
   "execution_count": 6,
   "metadata": {},
   "outputs": [
    {
     "data": {
      "text/latex": [
       "$\\displaystyle e^{- x} \\sinh{\\left(x^{2} + 1 \\right)}$"
      ],
      "text/plain": [
       "exp(-x)*sinh(x**2 + 1)"
      ]
     },
     "execution_count": 6,
     "metadata": {},
     "output_type": "execute_result"
    }
   ],
   "source": [
    "a=sp.exp(-x)*sp.sinh(x**2+1)\n",
    "a\n"
   ]
  },
  {
   "cell_type": "code",
   "execution_count": 7,
   "metadata": {},
   "outputs": [
    {
     "data": {
      "text/latex": [
       "$\\displaystyle 2 x e^{- x} \\cosh{\\left(x^{2} + 1 \\right)} - e^{- x} \\sinh{\\left(x^{2} + 1 \\right)}$"
      ],
      "text/plain": [
       "2*x*exp(-x)*cosh(x**2 + 1) - exp(-x)*sinh(x**2 + 1)"
      ]
     },
     "execution_count": 7,
     "metadata": {},
     "output_type": "execute_result"
    }
   ],
   "source": [
    "sp.diff(a,x)\n"
   ]
  },
  {
   "cell_type": "markdown",
   "metadata": {},
   "source": [
    "使った機能をとりあえず以下にメモ(まだ中身はよく理解してない)\n",
    "\n",
    "・[symbol.symbols()メソッド](https://docs.sympy.org/latest/modules/core.html#symbols)  \n",
    "・[Integralクラス ](https://docs.sympy.org/latest/modules/integrals/integrals.html#sympy.integrals.integrals.Integral)  \n",
    "・[Integral.doit()メソッド](https://docs.sympy.org/latest/modules/core.html#sympy.core.basic.Basic.doit)  \n",
    "・[diff()メソッド ](https://docs.sympy.org/latest/modules/core.html#sympy.core.function.diff)    \n",
    "・[Eq/Equality()クラス](https://docs.sympy.org/latest/modules/core.html#sympy.core.relational.Equality)\n"
   ]
  },
  {
   "cell_type": "markdown",
   "metadata": {},
   "source": [
    "###　微分方程式\n",
    "\n",
    "微分方程式解いてみる"
   ]
  },
  {
   "cell_type": "code",
   "execution_count": 8,
   "metadata": {},
   "outputs": [
    {
     "data": {
      "text/latex": [
       "$\\displaystyle f{\\left(x \\right)} - 2 \\frac{d}{d x} f{\\left(x \\right)} + \\frac{d^{2}}{d x^{2}} f{\\left(x \\right)} = \\sin{\\left(x \\right)}$"
      ],
      "text/plain": [
       "Eq(f(x) - 2*Derivative(f(x), x) + Derivative(f(x), (x, 2)), sin(x))"
      ]
     },
     "execution_count": 8,
     "metadata": {},
     "output_type": "execute_result"
    }
   ],
   "source": [
    "f = sp.symbols('f', cls=sp.Function)\n",
    "diffeq = sp.Eq(f(x).diff(x, x) - 2*f(x).diff(x) + f(x), sp.sin(x))\n",
    "diffeq"
   ]
  },
  {
   "cell_type": "code",
   "execution_count": 9,
   "metadata": {},
   "outputs": [
    {
     "data": {
      "text/latex": [
       "$\\displaystyle f{\\left(x \\right)} = \\left(C_{1} + C_{2} x\\right) e^{x} + \\frac{\\cos{\\left(x \\right)}}{2}$"
      ],
      "text/plain": [
       "Eq(f(x), (C1 + C2*x)*exp(x) + cos(x)/2)"
      ]
     },
     "execution_count": 9,
     "metadata": {},
     "output_type": "execute_result"
    }
   ],
   "source": [
    "sp.dsolve(diffeq,f(x))"
   ]
  },
  {
   "cell_type": "markdown",
   "metadata": {},
   "source": [
    "使った機能メモ  \n",
    "\n",
    "[Functionクラス](https://docs.sympy.org/latest/modules/core.html?highlight=function#sympy.core.function.Function)  \n",
    "[dsolve()メソッド](https://docs.sympy.org/latest/modules/solvers/ode.html?highlight=dsolve#sympy.solvers.ode.dsolve)"
   ]
  },
  {
   "cell_type": "markdown",
   "metadata": {},
   "source": [
    "### 因数分解\n",
    "\n",
    "多項式の因数分解\n"
   ]
  },
  {
   "cell_type": "code",
   "execution_count": 10,
   "metadata": {},
   "outputs": [
    {
     "data": {
      "text/latex": [
       "$\\displaystyle x^{3} - x^{2} + x - 1 = \\left(x - 1\\right) \\left(x^{2} + 1\\right)$"
      ],
      "text/plain": [
       "Eq(x**3 - x**2 + x - 1, (x - 1)*(x**2 + 1))"
      ]
     },
     "execution_count": 10,
     "metadata": {},
     "output_type": "execute_result"
    }
   ],
   "source": [
    "poly=x**3 - x**2 + x - 1\n",
    "sp.Eq(poly,sp.factor(poly))"
   ]
  },
  {
   "cell_type": "markdown",
   "metadata": {},
   "source": [
    "使った機能メモ  \n",
    "\n",
    "[Factorメソッド](https://docs.sympy.org/latest/modules/polys/reference.html?highlight=factor#sympy.polys.polytools.factor)"
   ]
  },
  {
   "cell_type": "markdown",
   "metadata": {},
   "source": [
    "### ここまでを詳しく調べてみる。"
   ]
  },
  {
   "cell_type": "code",
   "execution_count": 11,
   "metadata": {},
   "outputs": [],
   "source": [
    "type(x)"
   ]
  },
  {
   "cell_type": "code",
   "execution_count": 12,
   "metadata": {},
   "outputs": [],
   "source": [
    "dir(x)"
   ]
  },
  {
   "cell_type": "code",
   "execution_count": 13,
   "metadata": {},
   "outputs": [
    {
     "data": {
      "text/plain": [
       "sin"
      ]
     },
     "execution_count": 13,
     "metadata": {},
     "output_type": "execute_result"
    }
   ],
   "source": [
    "type(y1)"
   ]
  },
  {
   "cell_type": "code",
   "execution_count": null,
   "metadata": {},
   "outputs": [],
   "source": [
    "dir(y1)"
   ]
  },
  {
   "cell_type": "code",
   "execution_count": null,
   "metadata": {},
   "outputs": [],
   "source": [
    "type(eq1)"
   ]
  },
  {
   "cell_type": "code",
   "execution_count": null,
   "metadata": {},
   "outputs": [],
   "source": [
    "dir(eq1)"
   ]
  }
 ],
 "metadata": {
  "kernelspec": {
   "display_name": "Python 3",
   "language": "python",
   "name": "python3"
  },
  "language_info": {
   "codemirror_mode": {
    "name": "ipython",
    "version": 3
   },
   "file_extension": ".py",
   "mimetype": "text/x-python",
   "name": "python",
   "nbconvert_exporter": "python",
   "pygments_lexer": "ipython3",
   "version": "3.7.6"
  }
 },
 "nbformat": 4,
 "nbformat_minor": 4
}
